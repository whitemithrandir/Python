{
 "cells": [
  {
   "cell_type": "markdown",
   "id": "9a377e06",
   "metadata": {},
   "source": [
    "## Cloning"
   ]
  },
  {
   "cell_type": "code",
   "execution_count": 1,
   "id": "0e9a5183",
   "metadata": {},
   "outputs": [
    {
     "name": "stdout",
     "output_type": "stream",
     "text": [
      "['blue', 'green', 'grey', 'black']\n",
      "['blue', 'green', 'grey']\n"
     ]
    }
   ],
   "source": [
    "cool = ['blue', 'green', 'grey']\n",
    "chill = cool[:] #duplicate, çiftleme\n",
    "#chill =cool.copy()\n",
    "chill.append('black')\n",
    "print(chill)\n",
    "print(cool)"
   ]
  },
  {
   "cell_type": "markdown",
   "id": "2402a3b6",
   "metadata": {},
   "source": [
    "## Sorting with/without mutation"
   ]
  },
  {
   "cell_type": "code",
   "execution_count": 2,
   "id": "8ab419ec",
   "metadata": {},
   "outputs": [
    {
     "name": "stdout",
     "output_type": "stream",
     "text": [
      "['orange', 'red', 'yellow']\n",
      "['yellow', 'red', 'orange']\n",
      "None\n",
      "['grey', 'green', 'blue', 'a', 'f', 'b', 'c', 'g', 'e']\n",
      "['a', 'b', 'blue', 'c', 'e', 'f', 'g', 'green', 'grey']\n"
     ]
    }
   ],
   "source": [
    "warm = ['red', 'yellow', 'orange']\n",
    "sortedwarm = warm.sort()\n",
    "print(warm)\n",
    "warm.reverse()\n",
    "print(warm)\n",
    "\n",
    "print(sortedwarm)\n",
    "\n",
    "cool = ['grey', 'green', 'blue','a', 'f', 'b','c', 'g', 'e']\n",
    "sortedcool = sorted(cool)\n",
    "print(cool)\n",
    "print(sortedcool)\n",
    "\n",
    "#not sort ile sorted arasındaki fark biri kareakter diğeri sayhıları sıralıyor"
   ]
  },
  {
   "cell_type": "markdown",
   "id": "ff3b85ce",
   "metadata": {},
   "source": [
    "## lists of lists of lists"
   ]
  },
  {
   "cell_type": "code",
   "execution_count": 3,
   "id": "4e2011f5",
   "metadata": {},
   "outputs": [
    {
     "name": "stdout",
     "output_type": "stream",
     "text": [
      "[['yellow', 'orange'], ['red']]\n",
      "\n",
      "\n",
      "['yellow', 'orange', 'red']\n",
      "\n",
      "\n",
      "['red', 'pink']\n",
      "\n",
      "\n",
      "[['yellow', 'orange'], ['red', 'pink']]\n"
     ]
    }
   ],
   "source": [
    "warm = ['yellow', 'orange']\n",
    "hot = ['red']\n",
    "brightcolors = [warm]\n",
    "brightcolors.append(hot)\n",
    "print(brightcolors)\n",
    "\n",
    "print(\"\\n\")\n",
    "\n",
    "a=warm[:]\n",
    "a.append('red')\n",
    "print(a)\n",
    "\n",
    "print(\"\\n\")\n",
    "\n",
    "hot.append('pink')\n",
    "print(hot)\n",
    "\n",
    "print(\"\\n\")\n",
    "\n",
    "print(brightcolors)"
   ]
  },
  {
   "cell_type": "markdown",
   "id": "b897c091",
   "metadata": {},
   "source": [
    "## Mutating a list while iterating over it"
   ]
  },
  {
   "cell_type": "code",
   "execution_count": 5,
   "id": "e3dac45c",
   "metadata": {},
   "outputs": [
    {
     "name": "stdout",
     "output_type": "stream",
     "text": [
      "[2, 3, 4] [1, 2, 5, 6]\n",
      "\n",
      "\n",
      "[3, 4] [1, 2, 5, 6]\n"
     ]
    }
   ],
   "source": [
    "def remove_dups(L1, L2):\n",
    "    for e in L1:\n",
    "        if e in L2:\n",
    "            L1.remove(e)\n",
    "      \n",
    "\n",
    "def remove_dups_new(L1, L2):\n",
    "    L1_copy = L1[:]\n",
    "    for e in L1_copy:\n",
    "        if e in L2:\n",
    "            L1.remove(e)\n",
    "            \n",
    "L1 = [1, 2, 3, 4]\n",
    "L2 = [1, 2, 5, 6]\n",
    "remove_dups(L1, L2)\n",
    "\n",
    "\n",
    "print(L1, L2)\n",
    "\n",
    "print(\"\\n\")\n",
    "L1 = [1, 2, 3, 4]\n",
    "L2 = [1, 2, 5, 6]\n",
    "remove_dups_new(L1, L2)\n",
    "print(L1, L2)"
   ]
  },
  {
   "cell_type": "markdown",
   "id": "d82bdf95",
   "metadata": {},
   "source": [
    "## EXERCISE\n",
    "** Test yourself by predicting what the output is and what gets mutated then check with the Python Tutor"
   ]
  },
  {
   "cell_type": "code",
   "execution_count": 6,
   "id": "10eb25c3",
   "metadata": {},
   "outputs": [
    {
     "name": "stdout",
     "output_type": "stream",
     "text": [
      "['blue', 'green']\n",
      "['red', 'yellow', 'orange']\n",
      "\n",
      "\n",
      "[['blue', 'green']]\n",
      "\n",
      "\n",
      "colors1 =  [['blue', 'green'], ['red', 'yellow', 'orange']]\n",
      "\n",
      "\n",
      "colors2 = [['blue', 'green'], ['red', 'yellow', 'orange']]\n",
      "\n",
      "\n",
      "colors1 =  [['blue', 'green'], ['yellow', 'orange']]\n",
      "colors2 = [['blue', 'green'], ['red', 'yellow', 'orange']]\n",
      "\n",
      "\n",
      "e = ['blue', 'green']\n",
      "e = ['yellow', 'orange']\n",
      "asdf\n",
      "\n",
      "\n",
      "blue\n",
      "green\n",
      "yellow\n",
      "orange\n",
      "asdf\n",
      "\n",
      "\n",
      "flat = ['blue', 'green', 'yellow', 'orange', 'blue', 'green']\n",
      "None\n",
      "flat = ['blue', 'blue', 'green', 'green', 'orange', 'yellow']\n",
      "\n",
      "\n",
      "new_1\n",
      "['blue', 'blue', 'green', 'green', 'orange', 'yellow']\n",
      "\n",
      "\n",
      "reverse edildi\n",
      "['yellow', 'orange', 'green', 'green', 'blue', 'blue']\n",
      "\n",
      "\n",
      "['blue', 'black']\n",
      "[['blue', 'black'], ['yellow', 'orange']]\n"
     ]
    }
   ],
   "source": [
    "cool = ['blue', 'green']\n",
    "warm = ['red', 'yellow', 'orange']\n",
    "print(cool)\n",
    "print(warm)\n",
    "\n",
    "print(\"\\n\")\n",
    "\n",
    "colors1 = [cool]\n",
    "print(colors1)\n",
    "\n",
    "print(\"\\n\")\n",
    "\n",
    "colors1.append(warm)\n",
    "print('colors1 = ', colors1)\n",
    "\n",
    "print(\"\\n\")\n",
    "\n",
    "colors2 = [['blue', 'green'],\n",
    "          ['red', 'yellow', 'orange']]\n",
    "print('colors2 =', colors2)\n",
    "\n",
    "print(\"\\n\")\n",
    "\n",
    "warm.remove('red') \n",
    "\n",
    "print('colors1 = ', colors1)\n",
    "print('colors2 =', colors2)\n",
    " \n",
    "print(\"\\n\")\n",
    "\n",
    "for e in colors1:\n",
    "    print('e =', e)\n",
    "\n",
    "print(\"asdf\")\n",
    "\n",
    "print(\"\\n\")\n",
    "\n",
    "for e in colors1:\n",
    "    if type(e) == list:\n",
    "        for e1 in e:\n",
    "            print(e1)\n",
    "    else:\n",
    "        print(e)\n",
    "\n",
    "\n",
    "print(\"asdf\")\n",
    "\n",
    "print(\"\\n\")\n",
    "\n",
    "flat = cool + warm + cool\n",
    "print('flat =', flat)\n",
    "\n",
    "print(flat.sort())\n",
    "print('flat =', flat)\n",
    "\n",
    "print(\"\\n\")\n",
    "print(\"new_1\")\n",
    "new_flat1 = sorted(flat)\n",
    "print(new_flat1)\n",
    "print(\"\\n\")\n",
    "\n",
    "\n",
    "new_flat1.reverse()\n",
    "print(\"reverse edildi\")\n",
    "print(new_flat1)\n",
    "\n",
    "print(\"\\n\")\n",
    "cool[1] = 'black'\n",
    "print(cool)\n",
    "print(colors1)"
   ]
  },
  {
   "cell_type": "code",
   "execution_count": null,
   "id": "0752bff4",
   "metadata": {},
   "outputs": [],
   "source": []
  }
 ],
 "metadata": {
  "kernelspec": {
   "display_name": "Python 3 (ipykernel)",
   "language": "python",
   "name": "python3"
  },
  "language_info": {
   "codemirror_mode": {
    "name": "ipython",
    "version": 3
   },
   "file_extension": ".py",
   "mimetype": "text/x-python",
   "name": "python",
   "nbconvert_exporter": "python",
   "pygments_lexer": "ipython3",
   "version": "3.9.7"
  }
 },
 "nbformat": 4,
 "nbformat_minor": 5
}
