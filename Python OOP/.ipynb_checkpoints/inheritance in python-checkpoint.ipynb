{
 "cells": [
  {
   "cell_type": "markdown",
   "id": "e721ad27",
   "metadata": {},
   "source": [
    "* Kalıtım, bir sınıfın özelliklerini başka bir sınıftan türetme veya miras alma ve gerektiğinde kullanma yeteneği olarak tanımlanır. Kalıtım aşağıdaki özellikleri sağlar:\n",
    " \n",
    "\n",
    "* Gerçek dünya ilişkilerini iyi temsil eder. Kodun yeniden kullanılabilirliğini sağlar. Aynı kodu tekrar tekrar yazmak zorunda değiliz. Ayrıca, bir sınıfa onu değiştirmeden daha fazla özellik eklememize izin verir. Bu, doğası gereği geçişlidir, yani B sınıfı başka bir A sınıfından miras alırsa, B'nin tüm alt sınıfları otomatik olarak A sınıfından miras alır"
   ]
  },
  {
   "cell_type": "code",
   "execution_count": 1,
   "id": "f1dac6fb",
   "metadata": {},
   "outputs": [
    {
     "name": "stdout",
     "output_type": "stream",
     "text": [
      "Ram False\n",
      "Shivam True\n",
      "This function is in parent class.\n",
      "This function is in child class.\n"
     ]
    }
   ],
   "source": [
    "# # A Python program to demonstrate\n",
    "# # inheritance\n",
    "\n",
    "\n",
    "# # Base class or Parent class\n",
    "class Child:\n",
    "\n",
    "\t# Constructor\n",
    "\tdef __init__(self, name):\n",
    "\t\tself.name = name\n",
    "\n",
    "\t# To get name\n",
    "\tdef getName(self):\n",
    "\t\treturn self.name\n",
    "\n",
    "\t# To check if this person is student\n",
    "\tdef isStudent(self):\n",
    "\t\treturn False\n",
    "\n",
    "# Derived class or Child class\n",
    "class Student(Child):\n",
    "\n",
    "\t# True is returned\n",
    "\tdef isStudent(self):\n",
    "\t\treturn True\n",
    "\n",
    "\n",
    "# Driver code\n",
    "# An Object of Child\n",
    "std = Child(\"Ram\")\n",
    "print(std.getName(), std.isStudent())\n",
    "\n",
    "# An Object of Student\n",
    "std = Student(\"Shivam\")\n",
    "print(std.getName(), std.isStudent())\n",
    "\n",
    "'''Tek Kalıtım: Tek miras, türetilmiş bir sınıfın özellikleri tek bir üst sınıftan devralmasını sağlar, böylece kodun yeniden kullanılabilirliğini ve mevcut koda yeni özelliklerin eklenmesini sağlar.\n",
    "'''\n",
    "# Python program to demonstrate\n",
    "# single inheritance\n",
    "\n",
    "\n",
    "# Base class\n",
    "class Parent:\n",
    "\tdef func1(self):\n",
    "\t\tprint(\"This function is in parent class.\")\n",
    "\n",
    "# Derived class\n",
    "class Child(Parent):\n",
    "\tdef func2(self):\n",
    "\t\tprint(\"This function is in child class.\")\n",
    "\t\t\n",
    "\n",
    "# Driver's code\n",
    "object = Child()\n",
    "object.func1()\n",
    "object.func2()"
   ]
  },
  {
   "cell_type": "markdown",
   "id": "35a967ef",
   "metadata": {},
   "source": [
    "* Çoklu Kalıtım: Bir sınıf birden fazla temel sınıftan türetilebildiğinde, bu tür kalıtım, çoklu kalıtım olarak adlandırılır. Çoklu kalıtımda, temel sınıfların tüm özellikleri türetilmiş sınıfa miras alınır.\n"
   ]
  },
  {
   "cell_type": "code",
   "execution_count": 2,
   "id": "47acd8c9",
   "metadata": {},
   "outputs": [
    {
     "name": "stdout",
     "output_type": "stream",
     "text": [
      "Father : ALİ\n",
      "Mother : SEHER\n"
     ]
    }
   ],
   "source": [
    "# Python program to demonstrate\n",
    "# multiple inheritance\n",
    "\n",
    "# Base class1\n",
    "class Mother:\n",
    "\tmothername = \"\"\n",
    "\tdef mother(self):\n",
    "\t\tprint(self.mothername)\n",
    "\n",
    "# Base class2\n",
    "class Father:\n",
    "\tfathername = \"\"\n",
    "\tdef father(self):\n",
    "\t\tprint(self.fathername)\n",
    "\n",
    "# Derived class\n",
    "class Son(Mother, Father):\n",
    "\tdef parents(self):\n",
    "\t\tprint(\"Father :\", self.fathername)\n",
    "\t\tprint(\"Mother :\", self.mothername)\n",
    "\n",
    "# Driver's code\n",
    "s1 = Son()\n",
    "s1.fathername = \"ALİ\"\n",
    "s1.mothername = \"SEHER\"\n",
    "s1.parents()\n"
   ]
  },
  {
   "cell_type": "markdown",
   "id": "2377f6de",
   "metadata": {},
   "source": [
    "* Multilevel Inheritance; Çok düzeyli kalıtımda, temel sınıfın ve türetilmiş sınıfın özellikleri, yeni türetilmiş sınıfa ayrıca miras alınır. Bu, bir çocuğu ve büyükbabayı temsil eden bir ilişkiye benzer. \n"
   ]
  },
  {
   "cell_type": "code",
   "execution_count": 4,
   "id": "fa002b5a",
   "metadata": {},
   "outputs": [
    {
     "name": "stdout",
     "output_type": "stream",
     "text": [
      "Legolas\n",
      "Grandfather name : Legolas\n",
      "Father name : Gandalf\n",
      "Son name : Sauron\n"
     ]
    }
   ],
   "source": [
    "# Python program to demonstrate\n",
    "# multilevel inheritance\n",
    "\n",
    "# Base class\n",
    "class Grandfather:\n",
    "\n",
    "\tdef __init__(self, grandfathername):\n",
    "\t\tself.grandfathername = grandfathername\n",
    "\n",
    "# Intermediate class\n",
    "class Father(Grandfather):\n",
    "\tdef __init__(self, fathername, grandfathername):\n",
    "\t\tself.fathername = fathername\n",
    "\n",
    "\t\t# invoking constructor of Grandfather class\n",
    "\t\tGrandfather.__init__(self, grandfathername)\n",
    "\n",
    "# Derived class\n",
    "class Son(Father):\n",
    "\tdef __init__(self,sonname, fathername, grandfathername):\n",
    "\t\tself.sonname = sonname\n",
    "\n",
    "\t\t# invoking constructor of Father class\n",
    "\t\tFather.__init__(self, fathername, grandfathername)\n",
    "\n",
    "\tdef print_name(self):\n",
    "\t\tprint('Grandfather name :', self.grandfathername)\n",
    "\t\tprint(\"Father name :\", self.fathername)\n",
    "\t\tprint(\"Son name :\", self.sonname)\n",
    "\n",
    "# Driver code\n",
    "s1 = Son('Sauron', 'Gandalf', 'Legolas')\n",
    "print(s1.grandfathername)\n",
    "s1.print_name()\n"
   ]
  },
  {
   "cell_type": "markdown",
   "id": "a513a179",
   "metadata": {},
   "source": [
    "* Tek bir tabandan birden fazla türetilmiş sınıf oluşturulduğunda, bu tür kalıtım hiyerarşik kalıtım olarak adlandırılır. Bu programda bir ebeveyn (temel) sınıfımız ve iki çocuk (türetilmiş) sınıfımız var.\n"
   ]
  },
  {
   "cell_type": "code",
   "execution_count": 6,
   "id": "45d229f4",
   "metadata": {},
   "outputs": [
    {
     "name": "stdout",
     "output_type": "stream",
     "text": [
      "This function is in parent class.\n",
      "This function is in child 1.\n",
      "This function is in parent class.\n",
      "This function is in child 2.\n"
     ]
    }
   ],
   "source": [
    "#Hierarchical Inheritance: \n",
    "# Python program to demonstrate\n",
    "# Hierarchical inheritance\n",
    "\n",
    "# Base class\n",
    "class Parent:\n",
    "\tdef func1(self):\n",
    "\t\tprint(\"This function is in parent class.\")\n",
    "\n",
    "# Derived class1\n",
    "class Child1(Parent):\n",
    "\tdef func2(self):\n",
    "\t\tprint(\"This function is in child 1.\")\n",
    "\n",
    "# Derivied class2\n",
    "class Child2(Parent):\n",
    "\tdef func3(self):\n",
    "\t\tprint(\"This function is in child 2.\")\n",
    "\n",
    "# Driver's code\n",
    "object1 = Child1()\n",
    "object2 = Child2()\n",
    "object1.func1()\n",
    "object1.func2()\n",
    "object2.func1()\n",
    "object2.func3()"
   ]
  },
  {
   "cell_type": "code",
   "execution_count": null,
   "id": "88177eb0",
   "metadata": {},
   "outputs": [],
   "source": []
  }
 ],
 "metadata": {
  "kernelspec": {
   "display_name": "Python 3 (ipykernel)",
   "language": "python",
   "name": "python3"
  },
  "language_info": {
   "codemirror_mode": {
    "name": "ipython",
    "version": 3
   },
   "file_extension": ".py",
   "mimetype": "text/x-python",
   "name": "python",
   "nbconvert_exporter": "python",
   "pygments_lexer": "ipython3",
   "version": "3.9.7"
  }
 },
 "nbformat": 4,
 "nbformat_minor": 5
}
