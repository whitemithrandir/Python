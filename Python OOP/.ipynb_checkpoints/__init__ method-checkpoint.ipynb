{
 "cells": [
  {
   "cell_type": "code",
   "execution_count": 1,
   "id": "01b80165",
   "metadata": {},
   "outputs": [
    {
     "name": "stdout",
     "output_type": "stream",
     "text": [
      "mammal\n",
      "I'm a mammal\n",
      "I'm a dog\n",
      "\n",
      "\n",
      "dog\n",
      "I'm a mammal\n",
      "I'm a dog\n"
     ]
    }
   ],
   "source": [
    "class Dog:\n",
    "\t\n",
    "\t# A simple class\n",
    "\t# attribute\n",
    "\tattr1 = \"mammal\"\n",
    "\tattr2 = \"dog\"\n",
    "\n",
    "\t# A sample method\n",
    "\tdef fun(self):\n",
    "\t\tprint(\"I'm a\", self.attr1)\n",
    "\t\tprint(\"I'm a\", self.attr2)\n",
    "\n",
    "# Driver code\n",
    "# Object instantiation\n",
    "Rodger = Dog()\n",
    "pit = Dog()\n",
    "# Accessing class attributes\n",
    "# and method through objects\n",
    "print(Rodger.attr1)\n",
    "Rodger.fun()\n",
    "\n",
    "print(\"\\n\")\n",
    "\n",
    "print(pit.attr2)\n",
    "pit.fun()"
   ]
  },
  {
   "cell_type": "markdown",
   "id": "fcd76349",
   "metadata": {},
   "source": [
    "* __init__ yöntemi, C++ ve Java'daki Constructorsa benzer. Yapıcılar, nesnenin durumunu başlatmak için kullanılır. Yöntemler gibi, bir yapıcı da Nesne oluşturma sırasında yürütülen bir ifadeler (yani talimatlar) koleksiyonu içerir. Bir sınıfın nesnesi başlatılır başlatılmaz çalışır. Yöntem, nesnenizle yapmak istediğiniz herhangi bir başlatmayı yapmak için kullanışlıdır."
   ]
  },
  {
   "cell_type": "code",
   "execution_count": 2,
   "id": "5d0dfa34",
   "metadata": {},
   "outputs": [
    {
     "name": "stdout",
     "output_type": "stream",
     "text": [
      "isim gir: mithrandir work at tubitak\n",
      "Hello, my name is mithrandir work at tubitak\n"
     ]
    }
   ],
   "source": [
    "# A Sample class with init method\n",
    "class Person:\n",
    "\n",
    "\t# init method or constructor\n",
    "\tdef __init__(self, name):\n",
    "\t\tself.name = name\n",
    "\n",
    "\t# Sample Method\n",
    "\tdef say_hi(self):\n",
    "\t\tprint('Hello, my name is', self.name)\n",
    "\t\t\n",
    "a=input(\"isim gir: \")\n",
    "\n",
    "p = Person(a)\n",
    "p.say_hi()"
   ]
  },
  {
   "cell_type": "code",
   "execution_count": 3,
   "id": "a67e86fa",
   "metadata": {},
   "outputs": [
    {
     "name": "stdout",
     "output_type": "stream",
     "text": [
      "Rodger details:\n",
      "Rodger is a dog\n",
      "Breed:  Pug\n",
      "Color:  brown\n",
      "\n",
      "Buzo details:\n",
      "Buzo is a dog\n",
      "Breed:  Bulldog\n",
      "Color:  black\n",
      "\n",
      "Accessing class variable using class name\n",
      "dog\n"
     ]
    }
   ],
   "source": [
    "# Python3 program to show that the variables with a value\n",
    "# assigned in the class declaration, are class variables and\n",
    "# variables inside methods and constructors are instance\n",
    "# variables.\n",
    "\t\n",
    "# Class for Dog\n",
    "class Dog:\n",
    "\n",
    "\t# Class Variable\n",
    "\tanimal = 'dog'\t\t\t\n",
    "\n",
    "\t# The init method or constructor\n",
    "\tdef __init__(self, breed, color):\n",
    "\t\n",
    "\t\t# Instance Variable\t\n",
    "\t\tself.breed = breed\n",
    "\t\tself.color = color\t\n",
    "\t\n",
    "# Objects of Dog class\n",
    "Rodger = Dog(\"Pug\", \"brown\")\n",
    "Buzo = Dog(\"Bulldog\", \"black\")\n",
    "\n",
    "print('Rodger details:')\n",
    "print('Rodger is a', Rodger.animal)\n",
    "print('Breed: ', Rodger.breed)\n",
    "print('Color: ', Rodger.color)\n",
    "\n",
    "print('\\nBuzo details:')\n",
    "print('Buzo is a', Buzo.animal)\n",
    "print('Breed: ', Buzo.breed)\n",
    "print('Color: ', Buzo.color)\n",
    "\n",
    "# Class variables can be accessed using class\n",
    "# name also\n",
    "print(\"\\nAccessing class variable using class name\")\n",
    "print(Dog.animal)\t"
   ]
  },
  {
   "cell_type": "code",
   "execution_count": null,
   "id": "8b6f1669",
   "metadata": {},
   "outputs": [],
   "source": []
  }
 ],
 "metadata": {
  "kernelspec": {
   "display_name": "Python 3 (ipykernel)",
   "language": "python",
   "name": "python3"
  },
  "language_info": {
   "codemirror_mode": {
    "name": "ipython",
    "version": 3
   },
   "file_extension": ".py",
   "mimetype": "text/x-python",
   "name": "python",
   "nbconvert_exporter": "python",
   "pygments_lexer": "ipython3",
   "version": "3.9.7"
  }
 },
 "nbformat": 4,
 "nbformat_minor": 5
}
