{
 "cells": [
  {
   "cell_type": "code",
   "execution_count": 1,
   "id": "e5b8bdb6",
   "metadata": {},
   "outputs": [
    {
     "name": "stdout",
     "output_type": "stream",
     "text": [
      "GeekforGeeks\n",
      "birinci deger gir: 10\n",
      "ikinci deger gir: 20\n",
      "First number = 10\n",
      "Second number = 20\n",
      "Addition of two numbers = 30\n"
     ]
    }
   ],
   "source": [
    "def __init__(self):\n",
    "    # body of the constructor\n",
    "    \n",
    "    \n",
    "    '''default constructor\n",
    "    Varsayılan kurucu, herhangi bir argümanı kabul etmeyen basit bir kurucudur. \n",
    "\t\tTanımı, inşa edilen örneğe referans olan tek bir argümana sahiptir.\n",
    "    ''' \n",
    "class GeekforGeeks:\n",
    "\n",
    "\t# default constructor\n",
    "\tdef __init__(self):\n",
    "\t\tself.geek = \"GeekforGeeks\"\n",
    "\n",
    "\t# a method for printing data members\n",
    "\tdef print_Geek(self):\n",
    "\t\tprint(self.geek)\n",
    "\n",
    "\n",
    "# creating object of the class\n",
    "obj = GeekforGeeks()\n",
    "\n",
    "# calling the instance method using the object obj\n",
    "obj.print_Geek()\n",
    "\n",
    "'''parameterized constructor:parametreli kurucu parametreli kurucu olarak bilinir.\n",
    "Parametrelendirilmiş kurucu, ilk argümanını self olarak bilinen inşa edilen örneğe\n",
    "referans olarak alır ve argümanların geri kalanı programcı tarafından sağlanır.\n",
    "'''\n",
    "class Addition:\n",
    "\tfirst = 0\n",
    "\tsecond = 0\n",
    "\tanswer = 0\n",
    "\t\n",
    "\t# parameterized constructor\n",
    "\tdef __init__(self, f, s):\n",
    "\t\tself.first = f\n",
    "\t\tself.second = s\n",
    "\t\n",
    "\tdef display(self):\n",
    "\t\tprint(\"First number = \" + str(self.first))\n",
    "\t\tprint(\"Second number = \" + str(self.second))\n",
    "\t\tprint(\"Addition of two numbers = \" + str(self.answer))\n",
    "\n",
    "\tdef calculate(self):\n",
    "\t\tself.answer = self.first + self.second\n",
    "\n",
    "# creating object of the class\n",
    "# this will invoke parameterized constructor\n",
    "a=int(input(\"birinci deger gir: \"))\n",
    "b=int(input(\"ikinci deger gir: \"))\n",
    "obj = Addition(a, b)\n",
    "\n",
    "# perform Addition\n",
    "obj.calculate()\n",
    "\n",
    "# display result\n",
    "obj.display()"
   ]
  },
  {
   "cell_type": "code",
   "execution_count": null,
   "id": "71149edd",
   "metadata": {},
   "outputs": [],
   "source": []
  }
 ],
 "metadata": {
  "kernelspec": {
   "display_name": "Python 3 (ipykernel)",
   "language": "python",
   "name": "python3"
  },
  "language_info": {
   "codemirror_mode": {
    "name": "ipython",
    "version": 3
   },
   "file_extension": ".py",
   "mimetype": "text/x-python",
   "name": "python",
   "nbconvert_exporter": "python",
   "pygments_lexer": "ipython3",
   "version": "3.9.7"
  }
 },
 "nbformat": 4,
 "nbformat_minor": 5
}
