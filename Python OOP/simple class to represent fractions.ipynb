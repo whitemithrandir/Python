{
 "cells": [
  {
   "cell_type": "code",
   "execution_count": 1,
   "id": "8dbe9076",
   "metadata": {},
   "outputs": [
    {
     "name": "stdout",
     "output_type": "stream",
     "text": [
      "16/16\n",
      "1.0\n",
      "1.0\n",
      "1.3333333333333333\n"
     ]
    }
   ],
   "source": [
    "# EXAMPLE: simple class to represent fractions\n",
    "# Try adding more built-in operations like multiply, divide\n",
    "# Try adding a reduce method to reduce the fraction (use gcd)\n",
    "\n",
    "class Fraction(object):\n",
    "    \"\"\"\n",
    "    A number represented as a fraction\n",
    "    \"\"\"\n",
    "    def __init__(self, num, denom):\n",
    "        \"\"\" num and denom are integers \"\"\"\n",
    "        assert type(num) == int and type(denom) == int, \"ints not used\"\n",
    "        self.num = num\n",
    "        self.denom = denom\n",
    "    def __str__(self):\n",
    "        \"\"\" Retunrs a string representation of self \"\"\"\n",
    "        return str(self.num) + \"/\" + str(self.denom)\n",
    "    def __add__(self, other):\n",
    "        \"\"\" Returns a new fraction representing the addition \"\"\"\n",
    "        top = self.num*other.denom + self.denom*other.num\n",
    "        bott = self.denom*other.denom\n",
    "        return Fraction(top, bott)\n",
    "    def __sub__(self, other):\n",
    "        \"\"\" Returns a new fraction representing the subtraction \"\"\"\n",
    "        top = self.num*other.denom - self.denom*other.num\n",
    "        bott = self.denom*other.denom\n",
    "        return Fraction(top, bott)\n",
    "    def __float__(self):\n",
    "        \"\"\" Returns a float value of the fraction \"\"\"\n",
    "        return self.num/self.denom\n",
    "    def inverse(self):\n",
    "        \"\"\" Returns a new fraction representing 1/self \"\"\"\n",
    "        return Fraction(self.denom, self.num)\n",
    "\n",
    "a = Fraction(1,4)\n",
    "b = Fraction(3,4)\n",
    "c = a + b # c is a Fraction object\n",
    "print(c)\n",
    "print(float(c))\n",
    "print(Fraction.__float__(c))\n",
    "print(float(b.inverse()))\n",
    "#c = Fraction(3.14, 2.7) # assertion error\n",
    "#print a*b # error, did not define how to multiply two Fraction objects"
   ]
  },
  {
   "cell_type": "code",
   "execution_count": 2,
   "id": "3ef11924",
   "metadata": {},
   "outputs": [
    {
     "name": "stdout",
     "output_type": "stream",
     "text": [
      "{}\n",
      "{3,4}\n",
      "{3,4,6}\n",
      "{3,4,6}\n"
     ]
    }
   ],
   "source": [
    "# EXAMPLE: a set of integers as class\n",
    "\n",
    "class intSet(object):\n",
    "    \"\"\"\n",
    "    An intSet is a set of integers\n",
    "    The value is represented by a list of ints, self.vals\n",
    "    Each int in the set occurs in self.vals exactly once\n",
    "    \"\"\"\n",
    "    def __init__(self):\n",
    "        \"\"\" Create an empty set of integers \"\"\"\n",
    "        self.vals = []\n",
    "\n",
    "    def insert(self, e):\n",
    "        \"\"\" Assumes e is an integer and inserts e into self \"\"\"\n",
    "        if not e in self.vals:\n",
    "            self.vals.append(e)\n",
    "\n",
    "    def member(self, e):\n",
    "        \"\"\" Assumes e is an integer\n",
    "        Returns True if e is in self, and False otherwise \"\"\"\n",
    "        return e in self.vals\n",
    "\n",
    "    def remove(self, e):\n",
    "        \"\"\" Assumes e is an integer and removes e from self\n",
    "        Raises ValueError if e is not in self \"\"\"\n",
    "        try:\n",
    "            self.vals.remove(e)\n",
    "        except:\n",
    "            raise ValueError(str(e) + ' not found')\n",
    "\n",
    "    def __str__(self):\n",
    "        \"\"\" Returns a string representation of self \"\"\"\n",
    "        self.vals.sort()\n",
    "        return '{' + ','.join([str(e) for e in self.vals]) + '}'\n",
    "\n",
    "\n",
    "s = intSet()\n",
    "print(s)\n",
    "s.insert(3)\n",
    "s.insert(4)\n",
    "s.insert(3)\n",
    "print(s)\n",
    "s.member(3)\n",
    "s.member(5)\n",
    "s.insert(6)\n",
    "print(s)\n",
    "#s.remove(3)  # leads to an error\n",
    "print(s)\n",
    "s.remove(3)\n"
   ]
  },
  {
   "cell_type": "code",
   "execution_count": null,
   "id": "a3b71084",
   "metadata": {},
   "outputs": [],
   "source": []
  }
 ],
 "metadata": {
  "kernelspec": {
   "display_name": "Python 3 (ipykernel)",
   "language": "python",
   "name": "python3"
  },
  "language_info": {
   "codemirror_mode": {
    "name": "ipython",
    "version": 3
   },
   "file_extension": ".py",
   "mimetype": "text/x-python",
   "name": "python",
   "nbconvert_exporter": "python",
   "pygments_lexer": "ipython3",
   "version": "3.9.7"
  }
 },
 "nbformat": 4,
 "nbformat_minor": 5
}
