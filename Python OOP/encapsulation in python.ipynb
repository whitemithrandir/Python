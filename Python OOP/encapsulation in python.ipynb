{
 "cells": [
  {
   "cell_type": "markdown",
   "id": "46c8ead3",
   "metadata": {},
   "source": [
    "* Kapsülleme, nesne yönelimli programlamanın (OOP) temel kavramlarından biridir. Verileri sarma fikrini ve veriler üzerinde tek bir birim içinde çalışan yöntemleri açıklar. Bu, değişkenlere ve yöntemlere doğrudan erişime kısıtlamalar getirir ve verilerin yanlışlıkla değiştirilmesini önleyebilir. Kazara değişikliği önlemek için, bir nesnenin değişkeni yalnızca bir nesnenin yöntemiyle değiştirilebilir. Bu tür değişkenler özel olarak bilinir \n",
    "\n",
    "\n",
    "* Gerçek hayattan bir kapsülleme örneğini düşünün, bir şirkette hesaplar bölüm finans bölümü, satış bölümü vb. gibi farklı bölümler vardır. Finans bölümü tüm finansal işlemleri yönetir ve finansla ilgili tüm verilerin kayıtlarını tutar. Benzer şekilde, satış bölümü satışla ilgili tüm faaliyetleri yürütür ve tüm satışların kayıtlarını tutar. Şimdi, bir nedenden dolayı finans bölümünden bir yetkilinin belirli bir aydaki satışlarla ilgili tüm verilere ihtiyaç duyduğu bir durum ortaya çıkabilir. Bu durumda satış bölümünün verilerine doğrudan erişmesine izin verilmez. Önce satış bölümündeki başka bir görevliyle iletişime geçmesi ve ardından ondan belirli verileri vermesini istemesi gerekecektir. Kapsülleme budur. Burada satış bölümünün verileri ve bunları manipüle edebilen çalışanlar tek bir “satış bölümü” adı altında toplanmıştır. Kapsüllemenin kullanılması da verileri gizler. Bu örnekte, satış, finans veya hesaplar gibi bölümlerin verileri diğer bölümlerden gizlenmiştir.\n",
    "\n",
    "\n",
    "* Protected members; Korumalı üyeler (C++ ve JAVA'da), sınıfın dışında erişilemeyen ancak sınıf ve alt sınıflarından erişilebilen sınıfın üyeleridir. Bunu Python'da gerçekleştirmek için, üyenin adının önüne tek bir alt çizgi “_” koyarak kuralı takip edin.\n",
    "\n",
    "\n",
    "* Korumalı değişkene türetilmiş sınıfta olduğu gibi sınıf dışında da erişilebilmesine rağmen (türetilmiş sınıfta da değiştirilmiş), korumalı sınıf gövdesine erişmemek gelenekseldir (kural değil).\n",
    "\n",
    "\n",
    "* Not: __init__ yöntemi bir yapıcıdır ve bir sınıfın nesnesi başlatılır başlatılmaz çalışır."
   ]
  },
  {
   "cell_type": "code",
   "execution_count": 1,
   "id": "61a562f0",
   "metadata": {},
   "outputs": [
    {
     "name": "stdout",
     "output_type": "stream",
     "text": [
      "Calling protected member of base class:  2\n",
      "Calling modified protected member outside class:  3\n",
      "Accessing protedted member of obj1:  3\n",
      "Accessing protedted member of obj2:  2\n"
     ]
    }
   ],
   "source": [
    "# Python program to\n",
    "# demonstrate protected members\n",
    "\n",
    "# Creating a base class\n",
    "class Base:\n",
    "\tdef __init__(self):\n",
    "\n",
    "\t\t# Protected member\n",
    "\t\tself._a = 2\n",
    "\n",
    "# Creating a derived class\n",
    "class Derived(Base):\n",
    "\tdef __init__(self):\n",
    "\n",
    "\t\t# Calling constructor of\n",
    "\t\t# Base class\n",
    "\t\tBase.__init__(self)\n",
    "\t\tprint(\"Calling protected member of base class: \",\n",
    "\t\t\tself._a)\n",
    "\n",
    "\t\t# Modify the protected variable:\n",
    "\t\tself._a = 3\n",
    "\t\tprint(\"Calling modified protected member outside class: \",\n",
    "\t\t\tself._a)\n",
    "\n",
    "\n",
    "obj1 = Derived()\n",
    "\n",
    "obj2 = Base()\n",
    "\n",
    "# Calling protected member\n",
    "# Can be accessed but should not be done due to convention\n",
    "print(\"Accessing protedted member of obj1: \", obj1._a)\n",
    "\n",
    "# Accessing the protected variable outside\n",
    "print(\"Accessing protedted member of obj2: \", obj2._a)"
   ]
  },
  {
   "cell_type": "code",
   "execution_count": 2,
   "id": "754e9c54",
   "metadata": {},
   "outputs": [
    {
     "name": "stdout",
     "output_type": "stream",
     "text": [
      "İsim :  Ahmet\n",
      "Soyisim :  Kaleli\n",
      "Exam 1 :  74\n",
      "Exam 2 : 80\n",
      "\n",
      "\n",
      "Exam 1 :  50\n",
      "Exam 2 : 60\n"
     ]
    },
    {
     "data": {
      "text/plain": [
       "'engelleyelim bu durumu'"
      ]
     },
     "execution_count": 2,
     "metadata": {},
     "output_type": "execute_result"
    }
   ],
   "source": [
    "class RegisterCourse: \n",
    "    def __init__(self):\n",
    "        self.name = \"Ahmet\"\n",
    "        self.surname = \"Kaleli\"\n",
    "        self.exam1 = 74\n",
    "        self.exam2 = 80\n",
    "\n",
    "register = RegisterCourse()\n",
    "\n",
    "print(\"İsim : \",register.name)\n",
    "print(\"Soyisim : \",register.surname) \n",
    "print(\"Exam 1 : \",register.exam1)\n",
    "print(\"Exam 2 :\",register.exam2)\n",
    "\n",
    "register.exam1 = 50\n",
    "register.exam2 = 60\n",
    "\n",
    "print(\"\\n\")\n",
    "'''adamın bilgilerini değiştirdim'''\n",
    "print(\"Exam 1 : \",register.exam1)\n",
    "print(\"Exam 2 :\",register.exam2)\n",
    "\n",
    "'''engelleyelim bu durumu'''"
   ]
  },
  {
   "cell_type": "code",
   "execution_count": 3,
   "id": "8feadd08",
   "metadata": {},
   "outputs": [
    {
     "name": "stdout",
     "output_type": "stream",
     "text": [
      "Erişilemez ve değiştirişemez\n",
      "İsim :  white\n",
      "Soyisim :  mithrandir\n"
     ]
    }
   ],
   "source": [
    "#private\n",
    "print(\"Erişilemez ve değiştirilemez\")\n",
    "class RegisterCourse2:\n",
    "    def __init__(self):\n",
    "        self.name = \"white\"\n",
    "        self.surname = \"mithrandir\"\n",
    "        self.__exam1 = 74\n",
    "        self.__exam2 = 80\n",
    "\n",
    "register = RegisterCourse2()\n",
    "print(\"İsim : \",register.name)\n",
    "print(\"Soyisim : \",register.surname)\n",
    "# print(\"Exam 1 : \",register.__exam1)\n",
    "# print(\"Exam 2 :\",register.__exam2)"
   ]
  },
  {
   "cell_type": "code",
   "execution_count": 13,
   "id": "0a229acd",
   "metadata": {},
   "outputs": [
    {
     "name": "stdout",
     "output_type": "stream",
     "text": [
      "Erişilebilir ve değiştirilemez\n",
      "İsim :  white\n",
      "Soyisim :  mithrandir\n",
      "5\n"
     ]
    },
    {
     "ename": "AttributeError",
     "evalue": "'RegisterCourse' object has no attribute '_RegisterCourse__exam'",
     "output_type": "error",
     "traceback": [
      "\u001b[1;31m---------------------------------------------------------------------------\u001b[0m",
      "\u001b[1;31mAttributeError\u001b[0m                            Traceback (most recent call last)",
      "\u001b[1;32mC:\\Users\\SABANK~1.D\\AppData\\Local\\Temp/ipykernel_13344/536289772.py\u001b[0m in \u001b[0;36m<module>\u001b[1;34m\u001b[0m\n\u001b[0;32m     29\u001b[0m \u001b[0mregister\u001b[0m\u001b[1;33m.\u001b[0m\u001b[0mset_Exam\u001b[0m\u001b[1;33m(\u001b[0m\u001b[1;36m5\u001b[0m\u001b[1;33m)\u001b[0m\u001b[1;33m\u001b[0m\u001b[1;33m\u001b[0m\u001b[0m\n\u001b[0;32m     30\u001b[0m \u001b[0mprint\u001b[0m\u001b[1;33m(\u001b[0m\u001b[0mregister\u001b[0m\u001b[1;33m.\u001b[0m\u001b[0mgetExam1\u001b[0m\u001b[1;33m(\u001b[0m\u001b[1;33m)\u001b[0m\u001b[1;33m)\u001b[0m\u001b[1;33m\u001b[0m\u001b[1;33m\u001b[0m\u001b[0m\n\u001b[1;32m---> 31\u001b[1;33m \u001b[0mprint\u001b[0m\u001b[1;33m(\u001b[0m\u001b[0mregister\u001b[0m\u001b[1;33m.\u001b[0m\u001b[0mgetExam\u001b[0m\u001b[1;33m(\u001b[0m\u001b[1;33m)\u001b[0m\u001b[1;33m)\u001b[0m\u001b[1;33m\u001b[0m\u001b[1;33m\u001b[0m\u001b[0m\n\u001b[0m",
      "\u001b[1;32mC:\\Users\\SABANK~1.D\\AppData\\Local\\Temp/ipykernel_13344/536289772.py\u001b[0m in \u001b[0;36mgetExam\u001b[1;34m(self)\u001b[0m\n\u001b[0;32m     15\u001b[0m \u001b[1;33m\u001b[0m\u001b[0m\n\u001b[0;32m     16\u001b[0m     \u001b[1;32mdef\u001b[0m \u001b[0mgetExam\u001b[0m\u001b[1;33m(\u001b[0m\u001b[0mself\u001b[0m\u001b[1;33m)\u001b[0m\u001b[1;33m:\u001b[0m\u001b[1;33m\u001b[0m\u001b[1;33m\u001b[0m\u001b[0m\n\u001b[1;32m---> 17\u001b[1;33m         \u001b[1;32mreturn\u001b[0m \u001b[0mself\u001b[0m\u001b[1;33m.\u001b[0m\u001b[0m__exam\u001b[0m\u001b[1;33m\u001b[0m\u001b[1;33m\u001b[0m\u001b[0m\n\u001b[0m\u001b[0;32m     18\u001b[0m \u001b[1;33m\u001b[0m\u001b[0m\n\u001b[0;32m     19\u001b[0m     \u001b[1;32mdef\u001b[0m \u001b[0mset_Exam\u001b[0m\u001b[1;33m(\u001b[0m\u001b[0mself\u001b[0m\u001b[1;33m,\u001b[0m\u001b[0mx\u001b[0m\u001b[1;33m)\u001b[0m\u001b[1;33m:\u001b[0m\u001b[1;33m\u001b[0m\u001b[1;33m\u001b[0m\u001b[0m\n",
      "\u001b[1;31mAttributeError\u001b[0m: 'RegisterCourse' object has no attribute '_RegisterCourse__exam'"
     ]
    }
   ],
   "source": [
    "print(\"Erişilebilir ve değiştirilemez\")\n",
    "\n",
    "class RegisterCourse:\n",
    "    def __init__(self):\n",
    "        self.name = \"white\"\n",
    "        self.surname = \"mithrandir\"\n",
    "        self.__exam1 = 74\n",
    "        self.__courses = []\n",
    " \n",
    "    def __add(self,course):\n",
    "        self.courses.append(course)\n",
    " \n",
    "    def getExam1(self):\n",
    "        return self.__exam1\n",
    "        \n",
    "    def getExam(self):\n",
    "        return self.__exam\n",
    "        \n",
    "    def set_Exam(self,x):\n",
    "        self.__exam1 = x\n",
    "        \n",
    "register = RegisterCourse()\n",
    " \n",
    "print(\"İsim : \",register.name)\n",
    "print(\"Soyisim : \",register.surname)\n",
    "\n",
    "register.getExam1()\n",
    "\n",
    "register.set_Exam(5)\n",
    "print(register.getExam1())\n",
    "print(register.getExam())"
   ]
  },
  {
   "cell_type": "code",
   "execution_count": 14,
   "id": "2dd8ccbe",
   "metadata": {},
   "outputs": [
    {
     "name": "stdout",
     "output_type": "stream",
     "text": [
      "21\n",
      "21\n"
     ]
    },
    {
     "data": {
      "text/plain": [
       "'private değerleri setter fonksiyonu ile değiştirebiliriz'"
      ]
     },
     "execution_count": 14,
     "metadata": {},
     "output_type": "execute_result"
    }
   ],
   "source": [
    "class Geek:\n",
    "\tdef __init__(self, age = 0):\n",
    "\t\tself._age = age\n",
    "\t\n",
    "\t# getter method\n",
    "\tdef get_age(self):\n",
    "\t\treturn self._age\n",
    "\t\n",
    "\t# setter method\n",
    "\tdef set_age(self, x):\n",
    "\t\tself._age = x\n",
    "\n",
    "raj = Geek()\n",
    "\n",
    "# setting the age using setter\n",
    "raj.set_age(21)\n",
    "\n",
    "# retrieving age using getter\n",
    "print(raj.get_age())\n",
    "\n",
    "print(raj._age)\n",
    "\n",
    "'''private değerleri setter fonksiyonu ile değiştirebiliriz'''"
   ]
  },
  {
   "cell_type": "code",
   "execution_count": null,
   "id": "c359c899",
   "metadata": {},
   "outputs": [],
   "source": []
  }
 ],
 "metadata": {
  "kernelspec": {
   "display_name": "Python 3 (ipykernel)",
   "language": "python",
   "name": "python3"
  },
  "language_info": {
   "codemirror_mode": {
    "name": "ipython",
    "version": 3
   },
   "file_extension": ".py",
   "mimetype": "text/x-python",
   "name": "python",
   "nbconvert_exporter": "python",
   "pygments_lexer": "ipython3",
   "version": "3.9.7"
  }
 },
 "nbformat": 4,
 "nbformat_minor": 5
}
