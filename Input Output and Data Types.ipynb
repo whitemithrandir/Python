{
 "cells": [
  {
   "cell_type": "code",
   "execution_count": 2,
   "id": "fd1fe8ce",
   "metadata": {},
   "outputs": [
    {
     "name": "stdout",
     "output_type": "stream",
     "text": [
      "Enter name : saban\n",
      "type of number <class 'str'>\n",
      "Enter name : besiktas\n",
      "<class 'str'>\n",
      "Enter three values: 20 30 50\n",
      "Total number of students:  20\n",
      "Number of boys is :  30\n",
      "Number of girls is :  50\n",
      "<class 'str'>\n",
      "<class 'str'>\n",
      "<class 'str'>\n"
     ]
    }
   ],
   "source": [
    "name1 = input(\"Enter name : \")\n",
    "print (\"type of number\", type(name1))\n",
    "\n",
    "name2 = (input(\"Enter name : \"))\n",
    "print (type(name2))\n",
    "\n",
    "x, y, z = input(\"Enter three values: \").split()\n",
    "\n",
    "print(\"Total number of students: \", x)\n",
    "print(\"Number of boys is : \", y)\n",
    "print(\"Number of girls is : \", z)\n",
    "\n",
    "print (type(x))\n",
    "print (type(y))\n",
    "print (type(z))"
   ]
  },
  {
   "cell_type": "code",
   "execution_count": 3,
   "id": "7f28f919",
   "metadata": {},
   "outputs": [
    {
     "name": "stdout",
     "output_type": "stream",
     "text": [
      "This is a string\n",
      "<class 'str'>\n",
      "\n",
      "\n",
      "[1, 'a', 'string', 3]\n",
      "[1, 'a', 'string', 3, 6]\n",
      "['a', 'string', 3, 6]\n",
      "string\n",
      "<class 'list'>\n",
      "\n",
      "\n",
      "(1, 'a', 'string', 3)\n",
      "<class 'tuple'>\n",
      "a\n",
      "\n",
      "\n",
      "H\n",
      "e\n",
      "l\n",
      "l\n",
      "o\n",
      " \n",
      "W\n",
      "o\n",
      "r\n",
      "l\n",
      "d\n",
      "\n",
      "\n",
      "0\n",
      "1\n",
      "2\n",
      "3\n",
      "4\n",
      "5\n",
      "6\n",
      "7\n",
      "8\n",
      "9\n"
     ]
    }
   ],
   "source": [
    "a = \"This is a string\"\n",
    "print (a)\n",
    "print(type(a))\n",
    "\n",
    "print(\"\\n\")\n",
    "\n",
    "L = [1, \"a\" , \"string\" , 1+2]\n",
    "print(L)\n",
    "L.append(6)\n",
    "print(L)\n",
    "L.pop(0)  #1eleman silindi\n",
    "print(L)\n",
    "print(L[1])\n",
    "print(type(L))\n",
    "\n",
    "print(\"\\n\")\n",
    "\n",
    "tup = (1, \"a\", \"string\", 1+2)\n",
    "print(tup)\n",
    "print(type(tup))\n",
    "print(tup[1])\n",
    "# tup.append(3) #izin verilmiyor tuple için\n",
    "# print(tub)\n",
    "\n",
    "print(\"\\n\")\n",
    "\n",
    "s = \"Hello World\"\n",
    "for i in s :\n",
    "    print (i)\n",
    "\n",
    "print(\"\\n\")\n",
    "\n",
    "for i in range(0, 10):\n",
    "    print (i)"
   ]
  },
  {
   "cell_type": "code",
   "execution_count": null,
   "id": "11eefb27",
   "metadata": {},
   "outputs": [],
   "source": []
  }
 ],
 "metadata": {
  "kernelspec": {
   "display_name": "Python 3 (ipykernel)",
   "language": "python",
   "name": "python3"
  },
  "language_info": {
   "codemirror_mode": {
    "name": "ipython",
    "version": 3
   },
   "file_extension": ".py",
   "mimetype": "text/x-python",
   "name": "python",
   "nbconvert_exporter": "python",
   "pygments_lexer": "ipython3",
   "version": "3.9.7"
  }
 },
 "nbformat": 4,
 "nbformat_minor": 5
}
