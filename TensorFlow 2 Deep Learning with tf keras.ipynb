{
 "cells": [
  {
   "cell_type": "code",
   "execution_count": 9,
   "id": "430d1ba4",
   "metadata": {},
   "outputs": [
    {
     "name": "stdout",
     "output_type": "stream",
     "text": [
      "2.10.0\n"
     ]
    }
   ],
   "source": [
    "# check version\n",
    "import tensorflow\n",
    "print(tensorflow.__version__)"
   ]
  },
  {
   "cell_type": "code",
   "execution_count": null,
   "id": "5da08730",
   "metadata": {},
   "outputs": [],
   "source": [
    "# fit the model\n",
    "model.fit(X, y, epochs=100, batch_size=32)\n",
    "\n",
    "'''\n",
    "Fit the Model\n",
    "\n",
    "Modeli takmak için önce dönem sayısı (eğitim veri kümesindeki döngüler) ve toplu iş boyutu\n",
    "(model hatasını tahmin etmek için kullanılan bir dönemdeki örnek sayısı) gibi eğitim\n",
    "yapılandırmasını seçmeniz gerekir.\n",
    "Eğitim, seçilen kayıp fonksiyonunu en aza indirmek için seçilen optimizasyon algoritmasını\n",
    "uygular ve hata algoritmasının geri yayılımını kullanarak modeli günceller.\n",
    "Modeli takmak tüm sürecin yavaş kısmıdır ve modelin karmaşıklığına, kullandığınız donanıma\n",
    "ve eğitim veri kümesinin boyutuna bağlı olarak saniyeler ila saatler ila günler sürebilir.\n",
    "API perspektifinden bu, eğitim sürecini gerçekleştirmek için bir işlevin çağrılmasını içerir.\n",
    "Bu fonksiyon, eğitim süreci bitene kadar bloke eder (geri dönmez).\n",
    "'''\n",
    "\n",
    "\n",
    "...\n",
    "# evaluate the model\n",
    "loss = model.evaluate(X, y, verbose=0)\n",
    "\n",
    "\n",
    "\n",
    "...\n",
    "# make a prediction\n",
    "yhat = model.predict(X)\n",
    "\n",
    "'''\n",
    "Bir tahmin yapmak, yaşam döngüsünün son adımıdır. Bu yüzden modeli ilk etapta istedik.\n",
    "Bir tahminin gerekli olduğu, örneğin hedef değerlere sahip olmadığınız yeni verilere\n",
    "sahip olmanızı gerektirir.\n",
    "API perspektifinden, bir sınıf etiketi, olasılık veya sayısal değerin tahminini yapmak\n",
    "için bir işlevi çağırmanız yeterlidir - modelinizi tahmin etmek için tasarladığınız şey\n",
    "ne olursa olsun.\n",
    "Modeli kaydetmek ve daha sonra tahminlerde bulunmak için yüklemek isteyebilirsiniz.\n",
    "Ayrıca, kullanmaya başlamadan önce mevcut tüm verilere bir model sığdırmayı da seçebilirsiniz.\n",
    "Artık model yaşam döngüsüne aşina olduğunuza göre, modeller oluşturmak için tf.keras API'sini\n",
    "kullanmanın iki ana yoluna bir göz atalım: sıralı ve işlevsel.\n",
    "'''\n",
    "\n",
    "\n",
    "# example of a model defined with the sequential api\n",
    "from tensorflow.keras import Sequential\n",
    "from tensorflow.keras.layers import Dense\n",
    "# define the model\n",
    "model = Sequential()\n",
    "model.add(Dense(100, input_shape=(8,)))\n",
    "model.add(Dense(80))\n",
    "model.add(Dense(30))\n",
    "model.add(Dense(10))\n",
    "model.add(Dense(5))\n",
    "model.add(Dense(1))\n",
    "\n",
    "'''\n",
    "Sequential Model API (Simple)\n",
    "Sıralı bir sınıf tanımlamayı ve modele girdiden çıktıya kadar tek tek doğrusal bir şekilde\n",
    "katmanlar eklemeyi içerdiği için “ sıralı ” olarak adlandırılır .\n",
    "\n",
    "Aşağıdaki örnek, sekiz girişi kabul eden, 10 düğümlü bir gizli katmana ve ardından sayısal\n",
    "bir değeri tahmin etmek için tek düğümlü bir çıkış katmanına sahip olan bir Sıralı MLP modelini\n",
    "tanımlar\n",
    "\n",
    "Ağın görünür katmanının, ilk gizli katmandaki \" input_shape \" argümanı tarafından tanımlandığını\n",
    "unutmayın. Yukarıdaki örnekte, model bir örnek için girdinin sekiz sayıdan oluşan bir vektör\n",
    "olmasını beklemektedir.\n",
    "'''\n"
   ]
  },
  {
   "cell_type": "code",
   "execution_count": 11,
   "id": "5827e6f3",
   "metadata": {},
   "outputs": [
    {
     "data": {
      "text/plain": [
       "'\\nFunctional Model API (Advanced)\\n'"
      ]
     },
     "execution_count": 11,
     "metadata": {},
     "output_type": "execute_result"
    }
   ],
   "source": [
    "# example of a model defined with the functional api\n",
    "from tensorflow.keras import Model\n",
    "from tensorflow.keras import Input\n",
    "from tensorflow.keras.layers import Dense\n",
    "# define the layers\n",
    "x_in = Input(shape=(8,))\n",
    "x = Dense(10)(x_in)\n",
    "x_out = Dense(1)(x)\n",
    "# define the model\n",
    "model = Model(inputs=x_in, outputs=x_out)\n",
    "\n",
    "'''\n",
    "Functional Model API (Advanced)\n",
    "'''"
   ]
  },
  {
   "cell_type": "code",
   "execution_count": 17,
   "id": "0cfba4d9",
   "metadata": {},
   "outputs": [
    {
     "name": "stdout",
     "output_type": "stream",
     "text": [
      "(235, 34) (116, 34) (235,) (116,)\n",
      "Test Accuracy: 0.888\n",
      "1/1 [==============================] - 0s 47ms/step\n",
      "Predicted: 0.996\n"
     ]
    },
    {
     "data": {
      "image/png": "[encoded data removed]",
      "text/plain": [
       "<Figure size 288x216 with 1 Axes>"
      ]
     },
     "metadata": {
      "needs_background": "light"
     },
     "output_type": "display_data"
    }
   ],
   "source": [
    "# mlp for binary classification\n",
    "from pandas import read_csv\n",
    "from sklearn.model_selection import train_test_split\n",
    "from sklearn.preprocessing import LabelEncoder\n",
    "from tensorflow.keras import Sequential\n",
    "from tensorflow.keras.layers import Dense\n",
    "\n",
    "# load the dataset\n",
    "path = 'https://raw.githubusercontent.com/jbrownlee/Datasets/master/ionosphere.csv'\n",
    "df = read_csv(path, header=None)\n",
    "\n",
    "# split into input and output columns\n",
    "X, y = df.values[:, :-1], df.values[:, -1]\n",
    "\n",
    "# ensure all data are floating point values\n",
    "X = X.astype('float32')\n",
    "\n",
    "# encode strings to integer\n",
    "y = LabelEncoder().fit_transform(y)\n",
    "\n",
    "# split into train and test datasets\n",
    "X_train, X_test, y_train, y_test = train_test_split(X, y, test_size=0.33)\n",
    "print(X_train.shape, X_test.shape, y_train.shape, y_test.shape)\n",
    "\n",
    "# determine the number of input features\n",
    "n_features = X_train.shape[1]\n",
    "\n",
    "# define model\n",
    "model = Sequential()\n",
    "model.add(Dense(10, activation='relu', kernel_initializer='he_normal', input_shape=(n_features,)))\n",
    "model.add(Dense(8, activation='relu', kernel_initializer='he_normal'))\n",
    "model.add(Dense(1, activation='sigmoid'))\n",
    "\n",
    "# compile the model\n",
    "model.compile(optimizer='adam', loss='binary_crossentropy', metrics=['accuracy'])\n",
    "\n",
    "# fit the model\n",
    "history = model.fit(X_train, y_train, epochs=150, batch_size=32, verbose=0)\n",
    "\n",
    "# evaluate the model\n",
    "loss, acc = model.evaluate(X_test, y_test, verbose=0)\n",
    "print('Test Accuracy: %.3f' % acc)\n",
    "\n",
    "# make a prediction\n",
    "row = [1,0,0.99539,-0.05889,0.85243,0.02306,0.83398,-0.37708,1,0.03760,0.85243,-0.17755,0.59755,-0.44945,0.60536,-0.38223,0.84356,-0.38542,0.58212,-0.32192,0.56971,-0.29674,0.36946,-0.47357,0.56811,-0.51171,0.41078,-0.46168,0.21266,-0.34090,0.42267,-0.54487,0.18641,-0.45300]\n",
    "yhat = model.predict([row])\n",
    "print('Predicted: %.3f' % yhat)\n",
    "\n",
    "fig,ax = plt.subplots(1,1, figsize = (4,3))\n",
    "ax.plot(history.history['loss'], label='loss')\n",
    "ax.set_ylim([0, 0.8])\n",
    "ax.set_xlabel('Epoch')\n",
    "ax.set_ylabel('loss (cost)')\n",
    "ax.legend()\n",
    "ax.grid(True)\n",
    "\n",
    "pyplot.show()"
   ]
  },
  {
   "cell_type": "code",
   "execution_count": 20,
   "id": "503af29d",
   "metadata": {},
   "outputs": [
    {
     "name": "stdout",
     "output_type": "stream",
     "text": [
      "Model: \"sequential_11\"\n",
      "_________________________________________________________________\n",
      " Layer (type)                Output Shape              Param #   \n",
      "=================================================================\n",
      " dense_35 (Dense)            (None, 10)                90        \n",
      "                                                                 \n",
      " dense_36 (Dense)            (None, 8)                 88        \n",
      "                                                                 \n",
      " dense_37 (Dense)            (None, 1)                 9         \n",
      "                                                                 \n",
      "=================================================================\n",
      "Total params: 187\n",
      "Trainable params: 187\n",
      "Non-trainable params: 0\n",
      "_________________________________________________________________\n"
     ]
    }
   ],
   "source": [
    "# example of summarizing a model\n",
    "from tensorflow.keras import Sequential\n",
    "from tensorflow.keras.layers import Dense\n",
    "from tensorflow.keras.utils import plot_model\n",
    "\n",
    "# define model\n",
    "model = Sequential()\n",
    "model.add(Dense(10, activation='relu', kernel_initializer='he_normal', input_shape=(8,)))\n",
    "model.add(Dense(8, activation='relu', kernel_initializer='he_normal'))\n",
    "model.add(Dense(1, activation='sigmoid'))\n",
    "# summarize the model\n",
    "model.summary()\n"
   ]
  },
  {
   "cell_type": "code",
   "execution_count": 21,
   "id": "b1c1a63a",
   "metadata": {},
   "outputs": [
    {
     "data": {
      "image/png": "[encoded data removed]",
      "text/plain": [
       "<Figure size 432x288 with 1 Axes>"
      ]
     },
     "metadata": {
      "needs_background": "light"
     },
     "output_type": "display_data"
    },
    {
     "data": {
      "image/png": "[encoded data removed]",
      "text/plain": [
       "<Figure size 288x216 with 1 Axes>"
      ]
     },
     "metadata": {
      "needs_background": "light"
     },
     "output_type": "display_data"
    }
   ],
   "source": [
    "# example of plotting learning curves\n",
    "from sklearn.datasets import make_classification\n",
    "from tensorflow.keras import Sequential\n",
    "from tensorflow.keras.layers import Dense\n",
    "from tensorflow.keras.optimizers import SGD\n",
    "from matplotlib import pyplot\n",
    "\n",
    "# create the dataset\n",
    "X, y = make_classification(n_samples=1000, n_classes=2, random_state=1)\n",
    "# determine the number of input features\n",
    "n_features = X.shape[1]\n",
    "# define model\n",
    "\n",
    "model = Sequential()\n",
    "model.add(Dense(10, activation='relu', kernel_initializer='he_normal', input_shape=(n_features,)))\n",
    "model.add(Dense(1, activation='sigmoid'))\n",
    "\n",
    "# compile the model\n",
    "\n",
    "sgd = SGD(learning_rate=0.001, momentum=0.8)\n",
    "model.compile(optimizer=sgd, loss='binary_crossentropy')\n",
    "\n",
    "# fit the model\n",
    "history = model.fit(X, y, epochs=100, batch_size=32, verbose=0, validation_split=0.3)\n",
    "\n",
    "\n",
    "# plot learning curves\n",
    "pyplot.title('Learning Curves')\n",
    "pyplot.xlabel('Epoch')\n",
    "pyplot.ylabel('Cross Entropy')\n",
    "pyplot.plot(history.history['val_loss'], label='val')\n",
    "pyplot.plot(history.history['loss'], label='train')\n",
    "\n",
    "pyplot.legend()\n",
    "\n",
    "fig,ax = plt.subplots(1,1, figsize = (4,3))\n",
    "ax.plot(history.history['loss'], label='loss')\n",
    "ax.set_ylim([0, 1])\n",
    "ax.set_xlabel('Epoch')\n",
    "ax.set_ylabel('loss (cost)')\n",
    "ax.legend()\n",
    "ax.grid(True)\n",
    "\n",
    "\n",
    "pyplot.show()"
   ]
  },
  {
   "cell_type": "code",
   "execution_count": null,
   "id": "1544cf72",
   "metadata": {},
   "outputs": [],
   "source": []
  }
 ],
 "metadata": {
  "kernelspec": {
   "display_name": "Python 3 (ipykernel)",
   "language": "python",
   "name": "python3"
  },
  "language_info": {
   "codemirror_mode": {
    "name": "ipython",
    "version": 3
   },
   "file_extension": ".py",
   "mimetype": "text/x-python",
   "name": "python",
   "nbconvert_exporter": "python",
   "pygments_lexer": "ipython3",
   "version": "3.9.7"
  }
 },
 "nbformat": 4,
 "nbformat_minor": 5
}
