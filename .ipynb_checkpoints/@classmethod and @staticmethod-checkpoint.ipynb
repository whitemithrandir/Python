{
 "cells": [
  {
   "cell_type": "markdown",
   "id": "5cd73caa",
   "metadata": {},
   "source": [
    "* @classmethod dekoratörü, fonksiyonunuz tanımlandıktan sonra değerlendirilen bir ifade olan yerleşik bir fonksiyon dekoratörüdür. Bu değerlendirmenin sonucu, işlev tanımınızı gölgeler.Bir sınıf yöntemi, sınıfı örtük bir ilk argüman olarak alır, tıpkı bir örnek yönteminin örneği alması gibi\n",
    "\n",
    "* Sınıf yöntemi, sınıfın nesnesine değil, sınıfa bağlı bir yöntemdir. Nesne örneğini değil, sınıfı işaret eden bir sınıf parametresi aldığı için sınıfın durumuna erişimleri vardır. Sınıfın tüm örneklerine uygulanacak bir sınıf durumunu değiştirebilir. \n",
    "* Örneğin, tüm örneklere uygulanabilecek bir sınıf değişkenini değiştirebilir.\n",
    "\n",
    "* @staticmethod; Statik bir yöntem aynı zamanda sınıfın nesnesine değil, sınıfa bağlı bir yöntemdir. Statik bir yöntem, sınıf durumuna erişemez veya bunları değiştiremez. Bir sınıfta bulunur, çünkü yöntemin sınıfta bulunması mantıklıdır.\n",
    "\n",
    "* Bir sınıf yöntemi, cls'yi ilk parametre olarak alırken, statik bir yöntemin belirli parametrelere ihtiyacı yoktur. Bir sınıf yöntemi, sınıf durumuna erişebilir veya sınıf durumunu değiştirebilirken, statik bir yöntem buna erişemez veya değiştiremez. Genel olarak, statik yöntemler sınıf durumu hakkında hiçbir şey bilmez. Bazı parametreleri alan ve bu parametreler üzerinde çalışan yardımcı program tipi yöntemlerdir. Öte yandan, sınıf yöntemlerinin parametre olarak sınıfı olmalıdır. Python'da bir sınıf yöntemi oluşturmak için @classmethod dekoratörünü ve python'da statik bir yöntem oluşturmak için @staticmethod dekoratörünü kullanırız."
   ]
  },
  {
   "cell_type": "code",
   "execution_count": 1,
   "id": "45e4c78c",
   "metadata": {},
   "outputs": [
    {
     "name": "stdout",
     "output_type": "stream",
     "text": [
      "21\n",
      "26\n",
      "True\n"
     ]
    }
   ],
   "source": [
    "# Python program to demonstrate\n",
    "# use of class method and static method.\n",
    "from datetime import date\n",
    "\n",
    "class Person:\n",
    "\tdef __init__(self, name, age):\n",
    "\t\tself.name = name\n",
    "\t\tself.age = age\n",
    "\t\n",
    "\t# a class method to create a Person object by birth year.\n",
    "\t@classmethod\n",
    "\tdef fromBirthYear(cls, name, year):\n",
    "\t\treturn cls(name, date.today().year - year)\n",
    "\t\n",
    "\t# a static method to check if a Person is adult or not.\n",
    "\t@staticmethod\n",
    "\tdef isAdult(age):\n",
    "\t\treturn age > 18\n",
    "\n",
    "person1 = Person('mayank', 21)\n",
    "person2 = Person.fromBirthYear('mayank', 1996)\n",
    "\n",
    "print (person1.age)\n",
    "print (person2.age)\n",
    "\n",
    "# print the result\n",
    "print (Person.isAdult(22))"
   ]
  },
  {
   "cell_type": "code",
   "execution_count": null,
   "id": "1ed62662",
   "metadata": {},
   "outputs": [],
   "source": []
  }
 ],
 "metadata": {
  "kernelspec": {
   "display_name": "Python 3 (ipykernel)",
   "language": "python",
   "name": "python3"
  },
  "language_info": {
   "codemirror_mode": {
    "name": "ipython",
    "version": 3
   },
   "file_extension": ".py",
   "mimetype": "text/x-python",
   "name": "python",
   "nbconvert_exporter": "python",
   "pygments_lexer": "ipython3",
   "version": "3.9.7"
  }
 },
 "nbformat": 4,
 "nbformat_minor": 5
}
