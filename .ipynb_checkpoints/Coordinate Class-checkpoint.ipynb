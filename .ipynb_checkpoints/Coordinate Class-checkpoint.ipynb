{
 "cells": [
  {
   "cell_type": "code",
   "execution_count": 1,
   "id": "df00bec4",
   "metadata": {},
   "outputs": [
    {
     "name": "stdout",
     "output_type": "stream",
     "text": [
      "Enter a name: White\n",
      "Hello, my name is White\n",
      "Enter a surname: Gandalf\n",
      "Hello, my surname is ['G', 'a', 'n', 'd', 'a', 'l', 'f']\n"
     ]
    }
   ],
   "source": [
    "#A Sample class with init method\n",
    "class Person:\n",
    "\n",
    "# init method or constructor\n",
    "    def __init__(self, name):\n",
    "        self.name = name\n",
    "\n",
    "    # Sample Method\n",
    "    def say_hi(self):\n",
    "        print('Hello, my name is', self.name)\n",
    "\n",
    "    def say_(self):\n",
    "        print('Hello, my surname is', self.name)\n",
    "\n",
    "a = input(\"Enter a name: \")\n",
    "p = Person(a)\n",
    "p.say_hi()\n",
    "\n",
    "x = list(input(\"Enter a surname: \"))\n",
    "y = Person(x)\n",
    "y.say_()\n",
    "\n",
    "\n",
    "\n",
    "# b=[c if c == \"a\" else \"b\" for c in a ]\n",
    "# b = []\n",
    "\n",
    "# print(\"b :\",b)\n",
    "\n",
    "# for x in a:\n",
    "#     b.append(x)\n",
    "\n",
    "# print(\"b :\",b)"
   ]
  },
  {
   "cell_type": "code",
   "execution_count": 2,
   "id": "fd1678f1",
   "metadata": {},
   "outputs": [
    {
     "name": "stdout",
     "output_type": "stream",
     "text": [
      "str(self.x) + str(self.y :  34\n",
      "<3,4>\n",
      "3 0\n",
      "4 0\n",
      "5.0\n"
     ]
    }
   ],
   "source": [
    "class Coordinate(object):\n",
    "    \n",
    "    \"\"\" A coordinate made up of an x and y value \"\"\"\n",
    "    def __init__(self, x, y):\n",
    "        \"\"\" Sets the x and y values \"\"\"\n",
    "        self.x = x\n",
    "        self.y = y\n",
    "        \n",
    "    def __str__(self):\n",
    "        \"\"\" Returns a string representation of self \"\"\"\n",
    "        print(\"str(self.x) + str(self.y : \", str(self.x) + str(self.y) )\n",
    "        \n",
    "        return \"<\" + str(self.x) + \",\" + str(self.y) + \">\"\n",
    "    \n",
    "    def distance(self, other):\n",
    "        \"\"\" Returns the euclidean distance between two points \"\"\"\n",
    "        x_diff_sq = (self.x)**2\n",
    "        y_diff_sq = (self.y)**2\n",
    "        return (x_diff_sq + y_diff_sq)**0.5\n",
    "        \n",
    "\n",
    "c = Coordinate(3,4)\n",
    "\n",
    "print(c.__str__())\n",
    "\n",
    "origin = Coordinate(0,0)\n",
    "\n",
    "print(c.x, origin.x)\n",
    "print(c.y, origin.y)\n",
    "\n",
    "print(c.distance(origin))"
   ]
  },
  {
   "cell_type": "code",
   "execution_count": null,
   "id": "d3fcaf6e",
   "metadata": {},
   "outputs": [],
   "source": []
  }
 ],
 "metadata": {
  "kernelspec": {
   "display_name": "Python 3 (ipykernel)",
   "language": "python",
   "name": "python3"
  },
  "language_info": {
   "codemirror_mode": {
    "name": "ipython",
    "version": 3
   },
   "file_extension": ".py",
   "mimetype": "text/x-python",
   "name": "python",
   "nbconvert_exporter": "python",
   "pygments_lexer": "ipython3",
   "version": "3.9.7"
  }
 },
 "nbformat": 4,
 "nbformat_minor": 5
}
