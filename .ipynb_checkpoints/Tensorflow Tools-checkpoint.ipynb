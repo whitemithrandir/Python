{
 "cells": [
  {
   "cell_type": "code",
   "execution_count": 16,
   "id": "06965271",
   "metadata": {},
   "outputs": [
    {
     "name": "stdout",
     "output_type": "stream",
     "text": [
      "\n",
      "Orijinal X\n",
      " [[0.26161213 0.29849114]\n",
      " [0.81422574 0.09191594]\n",
      " [0.60010053 0.72856053]\n",
      " [0.18790107 0.05514663]\n",
      " [0.27496937 0.65743301]\n",
      " [0.56226566 0.15006226]\n",
      " [0.43263079 0.6692973 ]\n",
      " [0.42278467 0.6331844 ]\n",
      " [0.96743595 0.68306482]\n",
      " [0.39162483 0.18725257]]\n",
      "\n",
      "2.sütun değişti\n",
      " [[ 0.26161213 12.69396457]\n",
      " [ 0.81422574 11.86766377]\n",
      " [ 0.60010053 14.41424211]\n",
      " [ 0.18790107 11.72058651]\n",
      " [ 0.27496937 14.12973206]\n",
      " [ 0.56226566 12.10024905]\n",
      " [ 0.43263079 14.17718919]\n",
      " [ 0.42278467 14.0327376 ]\n",
      " [ 0.96743595 14.23225929]\n",
      " [ 0.39162483 12.24901028]]\n",
      "\n",
      "1.sütun değişti\n",
      " [[185.31763812  12.69396457]\n",
      " [259.92047498  11.86766377]\n",
      " [231.01357101  14.41424211]\n",
      " [175.3666449   11.72058651]\n",
      " [187.12086467  14.12973206]\n",
      " [225.90586448  12.10024905]\n",
      " [208.40515676  14.17718919]\n",
      " [207.07593089  14.0327376 ]\n",
      " [280.60385359  14.23225929]\n",
      " [202.86935247  12.24901028]]\n"
     ]
    }
   ],
   "source": [
    "import tensorflow as tf\n",
    "from tensorflow.keras.layers import Dense\n",
    "import numpy as np\n",
    "\n",
    "rng = np.random.default_rng(2)\n",
    "X = rng.random(20).reshape(-1,2)\n",
    "print(\"\\nOrijinal X\\n\",X)\n",
    "\n",
    "X[:,1] = X[:,1] * 4 + 11.5\n",
    "print(\"\\n2.sütun değişti\\n\" , X)\n",
    "\n",
    "\n",
    "X[:,0] = X[:,0] * (285-150) + 150\n",
    "print(\"\\n1.sütun değişti\\n\" , X)"
   ]
  },
  {
   "cell_type": "code",
   "execution_count": 19,
   "id": "7f28651c",
   "metadata": {},
   "outputs": [
    {
     "name": "stdout",
     "output_type": "stream",
     "text": [
      "\n",
      "Orijinal X\n",
      " [[185.31763812  12.69396457]\n",
      " [259.92047498  11.86766377]\n",
      " [231.01357101  14.41424211]\n",
      " [175.3666449   11.72058651]\n",
      " [187.12086467  14.12973206]\n",
      " [225.90586448  12.10024905]\n",
      " [208.40515676  14.17718919]\n",
      " [207.07593089  14.0327376 ]\n",
      " [280.60385359  14.23225929]\n",
      " [202.86935247  12.24901028]]\n",
      "\n",
      "Normalization X\n",
      " tf.Tensor(\n",
      "[[-0.9738298  -0.4386768 ]\n",
      " [ 1.3665401  -1.2135394 ]\n",
      " [ 0.45969978  1.1745092 ]\n",
      " [-1.2860034  -1.3514602 ]\n",
      " [-0.91726077  0.90771085]\n",
      " [ 0.29946592 -0.99543244]\n",
      " [-0.24955013  0.9522133 ]\n",
      " [-0.2912493   0.8167546 ]\n",
      " [ 2.0153997   1.003856  ]\n",
      " [-0.42321396 -0.8559323 ]], shape=(10, 2), dtype=float32)\n"
     ]
    }
   ],
   "source": [
    "\n",
    "#Normalization\n",
    "'''\n",
    "\n",
    "    https://www.tensorflow.org/api_docs/python/tf/keras/layers/Normalization\n",
    "\n",
    "'''\n",
    "\n",
    "print(\"\\nOrijinal X\\n\",X)\n",
    "norm_l = tf.keras.layers.Normalization(axis=-1)\n",
    "norm_l.adapt(X)  # learns mean, variance\n",
    "x_change = norm_l(X)\n",
    "\n",
    "print(\"\\nNormalization X\\n\", x_change)"
   ]
  },
  {
   "cell_type": "code",
   "execution_count": null,
   "id": "bbdc4681",
   "metadata": {},
   "outputs": [],
   "source": []
  }
 ],
 "metadata": {
  "kernelspec": {
   "display_name": "Python 3 (ipykernel)",
   "language": "python",
   "name": "python3"
  },
  "language_info": {
   "codemirror_mode": {
    "name": "ipython",
    "version": 3
   },
   "file_extension": ".py",
   "mimetype": "text/x-python",
   "name": "python",
   "nbconvert_exporter": "python",
   "pygments_lexer": "ipython3",
   "version": "3.9.12"
  }
 },
 "nbformat": 4,
 "nbformat_minor": 5
}
