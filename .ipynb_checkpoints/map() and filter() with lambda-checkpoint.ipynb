{
 "cells": [
  {
   "cell_type": "markdown",
   "id": "2ca967c5",
   "metadata": {},
   "source": [
    "* map() fonksiyonu Python'da yer alan birçok gömülü fonksiyondan biridir. map() fonksiyonunun amacı bir iterasyon yapısındaki elemanların tümüne aynı işlemi uygulamaktır. Örneğin elimizde bir sınıftaki öğrenci isimlerinden oluşan bir liste olduğunu varsayalım. Bu listedeki her öğrencinin isminin kaç karakterden oluştuğunu bulmak istiyor isek kullanacağım fonksiyon map() fonksiyonudur. Benzer şekilde elimizde sayısal değerlerden oluşan bir liste olduğunu düşünelim. Bu listenin bir mağazadaki ürünlerin fiyatları olduğunu varsayıyoruz. Bütün ürünlere eşit oranda indirim ya da zam yapmak istersek kullanacağımız fonksiyon yine map() fonksiyonudur. Şimdi az önce verdiğimiz örnekleri kodlarımızı yazarak biraz daha somutlaştıralım."
   ]
  },
  {
   "cell_type": "code",
   "execution_count": 1,
   "id": "f37742a5",
   "metadata": {},
   "outputs": [
    {
     "name": "stdout",
     "output_type": "stream",
     "text": [
      "[5, 6, 5, 6, 8, 4, 10, 5]\n",
      "[100, 2, 8, 60, 4, 10]\n",
      "[True, True, True, True, False, True, False, False, True, False]\n"
     ]
    }
   ],
   "source": [
    "isimler = [\n",
    "    'Kerem',\n",
    "    'Melisa',\n",
    "    'Eymen',\n",
    "    'Yağmur',\n",
    "    'Muhammed',\n",
    "    'Eray',\n",
    "    'Elizan'\n",
    "    'Uğur',\n",
    "    'Damla'\n",
    "]\n",
    "\n",
    "# Bu isimlerin kaç karakterden oluştuğu bulmak için de ayrıca bir fonksiyon tanımlıyoruz\n",
    "\n",
    "def hesapla(isim):\n",
    "    return len(isim)\n",
    "\n",
    "# artık her iki fonksiyonumuzu da aktif bir şekilde kullanabiliriz.\n",
    "\n",
    "\"\"\"\n",
    "    map objelerinin içeriği direkt olarak yazdırılamadığı için\n",
    "    fonksiyonu kullandıktan sonra map objemizi\n",
    "    yazdırabilmek için tekrar bir liste yapısına\n",
    "    dönüştürüyoruz.\n",
    "\"\"\"\n",
    "sonuc = map(hesapla,(isimler))\n",
    "sonuc = list(sonuc)\n",
    "print(sonuc)\n",
    "\n",
    "######################################\n",
    "# Python program to demonstrate\n",
    "# lambda functions inside map()\n",
    "# and filter()\n",
    "\n",
    "\n",
    "a = [100, 2, 8, 60, 5, 4, 3, 31, 10, 11]\n",
    "\n",
    "# in filter either we use assignment or\n",
    "# conditional operator, the pass actual\n",
    "# parameter will get return\n",
    "filtered = filter (lambda x: x % 2 == 0, a)\n",
    "print(list(filtered))\n",
    "\n",
    "# in map either we use assignment or\n",
    "# conditional operator, the result of\n",
    "# the value will get returned\n",
    "mapped = map (lambda x: x % 2 == 0, a)\n",
    "print(list(mapped))"
   ]
  },
  {
   "cell_type": "code",
   "execution_count": null,
   "id": "5064be7c",
   "metadata": {},
   "outputs": [],
   "source": []
  }
 ],
 "metadata": {
  "kernelspec": {
   "display_name": "Python 3 (ipykernel)",
   "language": "python",
   "name": "python3"
  },
  "language_info": {
   "codemirror_mode": {
    "name": "ipython",
    "version": 3
   },
   "file_extension": ".py",
   "mimetype": "text/x-python",
   "name": "python",
   "nbconvert_exporter": "python",
   "pygments_lexer": "ipython3",
   "version": "3.9.7"
  }
 },
 "nbformat": 4,
 "nbformat_minor": 5
}
