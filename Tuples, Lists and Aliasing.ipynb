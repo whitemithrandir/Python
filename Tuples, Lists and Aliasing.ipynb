{
 "cells": [
  {
   "cell_type": "markdown",
   "id": "882a0809",
   "metadata": {},
   "source": [
    "## Tuple"
   ]
  },
  {
   "cell_type": "code",
   "execution_count": 19,
   "id": "faf1ce14",
   "metadata": {},
   "outputs": [
    {
     "name": "stdout",
     "output_type": "stream",
     "text": [
      "Python\n",
      "C++ Dersleri\n",
      "Java Dersleri\n",
      "\n",
      "\n",
      "Enter name : saban kara\n",
      "\n",
      "saban kara\n",
      "\n",
      "\n",
      "<class 'str'>\n",
      "\n",
      "dersler isimli tuple  3  eleman içeriyor.\n",
      "3\n"
     ]
    }
   ],
   "source": [
    "dersler = (\"Python\", \"C++ Dersleri\", \"Java Dersleri\")\n",
    "\n",
    "\n",
    "for i in dersler:\n",
    "    print (i)\n",
    "    \n",
    "print(\"\\n\")    \n",
    "    \n",
    "\n",
    "name1 = input(\"Enter name : \")\n",
    "print( \"\\n\" + name1 + \"\\n\")\n",
    "print( \"\\n\" + str(type(name1)) + \"\\n\")\n",
    "\n",
    "if dersler.__contains__(name1):\n",
    "    print(\"Aradığınız değer Tuple içinde mevcut\")\n",
    "\n",
    "if name1 in dersler:\n",
    "    print(\"Aradığınız değer Tuple içinde mevcut\")\n",
    "\n",
    "\n",
    "adet=(len(dersler))\n",
    "print(\"dersler isimli tuple \",adet,\" eleman içeriyor.\")\n",
    "print(adet)\n",
    "\n",
    "del dersler       #tuple komple silindi\n"
   ]
  },
  {
   "cell_type": "code",
   "execution_count": 17,
   "id": "69e5bc05",
   "metadata": {},
   "outputs": [
    {
     "name": "stdout",
     "output_type": "stream",
     "text": [
      "('C#', 'C++', 'Python')\n",
      "4\n",
      "2\n",
      "3\n"
     ]
    }
   ],
   "source": [
    "prg = tuple((\"C#\", \"C++\", \"Python\")) #tuple oluşturma\n",
    "print(prg)\n",
    "\n",
    "sayilar = (1, 3, 7, 8, 7, 5, 4, 6, 8, 5, 8, 5, 9, 5)  #adet bulma\n",
    "adet = sayilar.count(5)\n",
    "print(adet)\n",
    "\n",
    "x = sayilar.index(7) #nerede olduğunu bulma\n",
    "print(x)\n",
    "\n",
    "menu=[\"Köfte\", \"Patates\",\"Hamburger\",\"Soda\",\"Gazoz\",\"Ayran\",\"Cola\",\"Fanta\"]\n",
    "print(menu.index(\"Soda\"))"
   ]
  },
  {
   "cell_type": "code",
   "execution_count": 20,
   "id": "23f39fc1",
   "metadata": {},
   "outputs": [
    {
     "name": "stdout",
     "output_type": "stream",
     "text": [
      "Enter a number for s: 1903\n",
      "Enter a number for d: 1996\n",
      "0\n",
      "1903\n"
     ]
    }
   ],
   "source": [
    "# EXAMPLE: returning a tuple\n",
    "\n",
    "def abc(x, y):\n",
    "    q = x // y\n",
    "    r = x % y\n",
    "    return (q, r)\n",
    "    \n",
    "    \n",
    "s = int(input(\"Enter a number for s: \"))\n",
    "d = int(input(\"Enter a number for d: \"))\n",
    "\n",
    "(A, Q) = abc(s,d)\n",
    "print(A)\n",
    "print(Q)\n"
   ]
  },
  {
   "cell_type": "code",
   "execution_count": 21,
   "id": "54d620af",
   "metadata": {},
   "outputs": [
    {
     "name": "stdout",
     "output_type": "stream",
     "text": [
      "a: 1 b: 7 c: 2\n",
      "From 2008 to 2014 Taylor Swift wrote songs about 5 people!\n"
     ]
    }
   ],
   "source": [
    "## EXAMPLE: iterating over tuples\n",
    "\n",
    "def get_data(aTuple):\n",
    "\n",
    "    nums = ()    # empty tuple\n",
    "    words = ()\n",
    "    for t in aTuple:\n",
    "        nums = nums + (t[0],)   \n",
    "        \n",
    "        if t[1] not in words:   \n",
    "            words = words + (t[1],)\n",
    "            \n",
    "    min_n = min(nums)\n",
    "    max_n = max(nums)\n",
    "    unique_words = len(words)\n",
    "    return (min_n, max_n, unique_words)\n",
    "\n",
    "test = ((1,\"a\"),(2, \"b\"),(1,\"a\"),(7,\"b\"))\n",
    "(a, b, c) = get_data(test)\n",
    "print(\"a:\",a,\"b:\",b,\"c:\",c)\n",
    "\n",
    "# apply to any data you want!\n",
    "tswift = ((2014,\"Katy\"),\n",
    "          (2014, \"Harry\"),\n",
    "          (2012,\"Jake\"), \n",
    "          (2010,\"Taylor\"), \n",
    "          (2008,\"Joe\"))    \n",
    "(min_year, max_year, num_people) = get_data(tswift)\n",
    "print(\"From\", min_year, \"to\", max_year, \\\n",
    "        \"Taylor Swift wrote songs about\", num_people, \"people!\")"
   ]
  },
  {
   "cell_type": "markdown",
   "id": "c35376f9",
   "metadata": {},
   "source": [
    "## List"
   ]
  },
  {
   "cell_type": "code",
   "execution_count": 22,
   "id": "4d5f50c7",
   "metadata": {},
   "outputs": [
    {
     "name": "stdout",
     "output_type": "stream",
     "text": [
      "10\n",
      "16\n"
     ]
    }
   ],
   "source": [
    "## EXAMPLE: sum of elements in a list\n",
    "\n",
    "def sum_elem_method1(L):\n",
    "    total = 0 \n",
    "    for i in range(len(L)): \n",
    "        total += L[i] \n",
    "    return total\n",
    "\n",
    "def sum_elem_method1(L):\n",
    "    total = 0 \n",
    "    for i in L: \n",
    "        total += i \n",
    "    return total\n",
    "  \n",
    "def sum_elem_method2(L):\n",
    "    total = 0 \n",
    "    for i in L: \n",
    "        total += i \n",
    "    return total\n",
    "    \n",
    "print(sum_elem_method1([1,2,3,4]))\n",
    "print(sum_elem_method2([1,2,3,4,6]))"
   ]
  },
  {
   "cell_type": "code",
   "execution_count": 23,
   "id": "93501eec",
   "metadata": {},
   "outputs": [
    {
     "name": "stdout",
     "output_type": "stream",
     "text": [
      "List L1 beofore extend(): [2, 1, 3]\n",
      "\n",
      "\n",
      "List L1 after extend(): [2, 1, 3, 0, 6]\n",
      "\n",
      "\n",
      "[2, 1, 3, 6, 5, 7, 0]\n",
      "\n",
      "\n",
      "[1, 6, 5, 7, 0]\n",
      "\n",
      "\n",
      "[1, 5, 7, 0]\n",
      "\n",
      "\n",
      "0\n",
      "['s', 'a', 'b', 'a', 'n', ' ', 'k', 'a', 'r', 'a']\n",
      "\n",
      "\n",
      "['s', 'b', 'n k', 'r', '']\n",
      "\n",
      "\n",
      "abc\n",
      "a_b_c\n",
      "\n",
      "\n",
      "[9, 6, 0, 3]\n",
      "[0, 3, 6, 9]\n",
      "dfgh\n",
      "[9, 6, 0, 3]\n",
      "[0, 3, 6, 9]\n",
      "[3, 6, 9]\n",
      "[9, 6, 3, 0]\n",
      "[9, 6, 3, 0]\n",
      "[0, 3, 6, 9]\n"
     ]
    }
   ],
   "source": [
    "## EXAMPLE: various list operations\n",
    "## put print(L) at different locations to see how it gets mutated\n",
    "\n",
    "L1 = [2,1,3]\n",
    "L2 = [4,5,6]\n",
    "L3 = L1 + L2\n",
    "\n",
    "#extend ekleme yapıyor\n",
    "print('List L1 beofore extend():', L1)\n",
    "print(\"\\n\")\n",
    "\n",
    "L1.extend([0,6])\n",
    "print('List L1 after extend():', L1)\n",
    "print(\"\\n\")\n",
    "\n",
    "L = [2,1,3,6,5,7,0]\n",
    "print(L)\n",
    "\n",
    "print(\"\\n\")\n",
    "L.remove(2)\n",
    "L.remove(3)\n",
    "print(L)\n",
    "\n",
    "print(\"\\n\")\n",
    "del(L[1])\n",
    "print(L)\n",
    "\n",
    "print(\"\\n\")\n",
    "\n",
    "print(L.pop()) #ne var ne yok her şeyi sildi\n",
    "\n",
    "s = \"saban kara\"\n",
    "print(list(s))\n",
    "print(\"\\n\")\n",
    "\n",
    "print(s.split('a'))\n",
    "print(\"\\n\")\n",
    "\n",
    "L = ['a', 'b', 'c']\n",
    "print(''.join(L))\n",
    "print('_'.join(L))\n",
    "print(\"\\n\")\n",
    "\n",
    "L=[9,6,0,3]\n",
    "print(L)\n",
    "L_sorted = sorted(L)\n",
    "print(L_sorted)\n",
    "# print(L)\n",
    "\n",
    "a = L.copy()\n",
    "a.sort()\n",
    "print(\"dfgh\")\n",
    "\n",
    "print(L)\n",
    "print(a)\n",
    "\n",
    "\n",
    "del(L_sorted[0])\n",
    "# print(L)\n",
    "print(L_sorted)\n",
    "\n",
    "L.sort()\n",
    "\n",
    "t = list(reversed(L))\n",
    "print(t)\n",
    "\n",
    "b = L.copy()\n",
    "b.reverse()\n",
    "\n",
    "print(b)\n",
    "print(L)"
   ]
  },
  {
   "cell_type": "code",
   "execution_count": null,
   "id": "04a3fd52",
   "metadata": {},
   "outputs": [],
   "source": []
  }
 ],
 "metadata": {
  "kernelspec": {
   "display_name": "Python 3 (ipykernel)",
   "language": "python",
   "name": "python3"
  },
  "language_info": {
   "codemirror_mode": {
    "name": "ipython",
    "version": 3
   },
   "file_extension": ".py",
   "mimetype": "text/x-python",
   "name": "python",
   "nbconvert_exporter": "python",
   "pygments_lexer": "ipython3",
   "version": "3.9.12"
  }
 },
 "nbformat": 4,
 "nbformat_minor": 5
}
