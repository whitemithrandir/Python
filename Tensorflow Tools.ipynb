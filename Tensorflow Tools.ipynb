{
 "cells": [
  {
   "cell_type": "code",
   "execution_count": 2,
   "id": "57aa6dba",
   "metadata": {},
   "outputs": [],
   "source": [
    "import tensorflow as tf\n",
    "from tensorflow.keras.models import Sequential\n",
    "from tensorflow.keras.layers import Dense\n",
    "import numpy as np\n",
    "import matplotlib.pyplot as plt\n",
    "\n",
    "\n",
    "def data():\n",
    "    \n",
    "    rng = np.random.default_rng(2)\n",
    "    X = rng.random(20).reshape(-1,2)\n",
    "    print(\"\\nOrijinal X\\n\",X)\n",
    "\n",
    "    X[:,1] = X[:,1] * 4 + 11.5\n",
    "    print(\"\\n2.sütun değişti\\n\" , X)\n",
    "\n",
    "\n",
    "    X[:,0] = X[:,0] * (285-150) + 150\n",
    "    print(\"\\n1.sütun değişti\\n\" , X)\n",
    "    \n",
    "    Y = np.zeros(len(X))\n",
    "    \n",
    "    i=0\n",
    "    for t,d in X:\n",
    "        y = -3/(260-175)*t + 21\n",
    "        if (t > 175 and t < 260 and d > 12 and d < 15 and d<=y ):\n",
    "            Y[i] = 1\n",
    "        else:\n",
    "            Y[i] = 0\n",
    "        i += 1\n",
    "\n",
    "    return (X, Y.reshape(-1,1))\n",
    "\n",
    "def plt_roast(X,Y):\n",
    "    Y = Y.reshape(-1,)\n",
    "    fig, ax = plt.subplots(1,1,)\n",
    "    ax.scatter(X[Y==1,0],X[Y==1,1], s=70, marker='x', c='red', label=\"Good Roast\" )\n",
    "    ax.scatter(X[Y==0,0],X[Y==0,1], s=100, marker='o', label=\"Bad Roast\")\n",
    "    plt.show()"
   ]
  },
  {
   "cell_type": "code",
   "execution_count": 3,
   "id": "71a728f2",
   "metadata": {},
   "outputs": [
    {
     "name": "stdout",
     "output_type": "stream",
     "text": [
      "\n",
      "Orijinal X\n",
      " [[0.26161213 0.29849114]\n",
      " [0.81422574 0.09191594]\n",
      " [0.60010053 0.72856053]\n",
      " [0.18790107 0.05514663]\n",
      " [0.27496937 0.65743301]\n",
      " [0.56226566 0.15006226]\n",
      " [0.43263079 0.6692973 ]\n",
      " [0.42278467 0.6331844 ]\n",
      " [0.96743595 0.68306482]\n",
      " [0.39162483 0.18725257]]\n",
      "\n",
      "2.sütun değişti\n",
      " [[ 0.26161213 12.69396457]\n",
      " [ 0.81422574 11.86766377]\n",
      " [ 0.60010053 14.41424211]\n",
      " [ 0.18790107 11.72058651]\n",
      " [ 0.27496937 14.12973206]\n",
      " [ 0.56226566 12.10024905]\n",
      " [ 0.43263079 14.17718919]\n",
      " [ 0.42278467 14.0327376 ]\n",
      " [ 0.96743595 14.23225929]\n",
      " [ 0.39162483 12.24901028]]\n",
      "\n",
      "1.sütun değişti\n",
      " [[185.31763812  12.69396457]\n",
      " [259.92047498  11.86766377]\n",
      " [231.01357101  14.41424211]\n",
      " [175.3666449   11.72058651]\n",
      " [187.12086467  14.12973206]\n",
      " [225.90586448  12.10024905]\n",
      " [208.40515676  14.17718919]\n",
      " [207.07593089  14.0327376 ]\n",
      " [280.60385359  14.23225929]\n",
      " [202.86935247  12.24901028]]\n"
     ]
    }
   ],
   "source": [
    "X,Y = data();"
   ]
  },
  {
   "cell_type": "code",
   "execution_count": 4,
   "id": "c1ffe8d0",
   "metadata": {
    "scrolled": true
   },
   "outputs": [
    {
     "data": {
      "image/png": "[encoded data removed]",
      "text/plain": [
       "<Figure size 432x288 with 1 Axes>"
      ]
     },
     "metadata": {
      "needs_background": "light"
     },
     "output_type": "display_data"
    }
   ],
   "source": [
    "plt_roast(X,Y)"
   ]
  },
  {
   "cell_type": "code",
   "execution_count": 5,
   "id": "370f39c6",
   "metadata": {},
   "outputs": [
    {
     "name": "stdout",
     "output_type": "stream",
     "text": [
      "\n",
      "Orijinal X\n",
      " [[185.31763812  12.69396457]\n",
      " [259.92047498  11.86766377]\n",
      " [231.01357101  14.41424211]\n",
      " [175.3666449   11.72058651]\n",
      " [187.12086467  14.12973206]\n",
      " [225.90586448  12.10024905]\n",
      " [208.40515676  14.17718919]\n",
      " [207.07593089  14.0327376 ]\n",
      " [280.60385359  14.23225929]\n",
      " [202.86935247  12.24901028]]\n",
      "\n",
      "Normalization X\n",
      " tf.Tensor(\n",
      "[[-0.9738298  -0.4386768 ]\n",
      " [ 1.3665401  -1.2135394 ]\n",
      " [ 0.45969978  1.1745092 ]\n",
      " [-1.2860034  -1.3514602 ]\n",
      " [-0.91726077  0.90771085]\n",
      " [ 0.29946592 -0.99543244]\n",
      " [-0.24955013  0.9522133 ]\n",
      " [-0.2912493   0.8167546 ]\n",
      " [ 2.0153997   1.003856  ]\n",
      " [-0.42321396 -0.8559323 ]], shape=(10, 2), dtype=float32)\n"
     ]
    }
   ],
   "source": [
    "#Normalization\n",
    "'''\n",
    "\n",
    "    https://www.tensorflow.org/api_docs/python/tf/keras/layers/Normalization\n",
    "\n",
    "'''\n",
    "\n",
    "print(\"\\nOrijinal X\\n\",X)\n",
    "norm_l = tf.keras.layers.Normalization(axis=-1)\n",
    "norm_l.adapt(X)  # learns mean, variance\n",
    "x_change = norm_l(X)\n",
    "\n",
    "print(\"\\nNormalization X\\n\", x_change)"
   ]
  },
  {
   "cell_type": "code",
   "execution_count": 6,
   "id": "f33579d0",
   "metadata": {},
   "outputs": [
    {
     "name": "stdout",
     "output_type": "stream",
     "text": [
      "(10, 2)\n",
      "(10000, 2) (10000, 1)\n"
     ]
    }
   ],
   "source": [
    "\n",
    "print(x_change.shape)\n",
    "\n",
    "#veri seti boyutunu arttırmak için\n",
    "Xt = np.tile(x_change,(1000,1))\n",
    "Yt= np.tile(Y,(1000,1)) \n",
    "\n",
    "print(Xt.shape, Yt.shape)  "
   ]
  },
  {
   "cell_type": "code",
   "execution_count": 9,
   "id": "29946e35",
   "metadata": {},
   "outputs": [],
   "source": [
    "'''\n",
    "    https://www.tensorflow.org/api_docs/python/tf/keras/Input\n",
    "'''\n",
    "\n",
    "tf.random.set_seed(1234)\n",
    "model = Sequential(\n",
    "    [\n",
    "        tf.keras.Input(shape=(2,)), #Shape = none\n",
    "        Dense(3, activation='sigmoid', name = 'layer1'),\n",
    "        Dense(1, activation='sigmoid', name = 'layer2')\n",
    "     ]\n",
    ")"
   ]
  },
  {
   "cell_type": "code",
   "execution_count": 10,
   "id": "387c13b4",
   "metadata": {},
   "outputs": [
    {
     "name": "stdout",
     "output_type": "stream",
     "text": [
      "Model: \"sequential_1\"\n",
      "_________________________________________________________________\n",
      " Layer (type)                Output Shape              Param #   \n",
      "=================================================================\n",
      " layer1 (Dense)              (None, 3)                 9         \n",
      "                                                                 \n",
      " layer2 (Dense)              (None, 1)                 4         \n",
      "                                                                 \n",
      "=================================================================\n",
      "Total params: 13\n",
      "Trainable params: 13\n",
      "Non-trainable params: 0\n",
      "_________________________________________________________________\n"
     ]
    }
   ],
   "source": [
    "model.summary()"
   ]
  },
  {
   "cell_type": "code",
   "execution_count": 11,
   "id": "7c9f0414",
   "metadata": {},
   "outputs": [
    {
     "name": "stdout",
     "output_type": "stream",
     "text": [
      "L1 params =  9 , L2 params =  4\n"
     ]
    }
   ],
   "source": [
    "L1_num_params = 2 * 3 + 3   # W1 parameters  + b1 parameters\n",
    "L2_num_params = 3 * 1 + 1   # W2 parameters  + b2 parameters\n",
    "print(\"L1 params = \", L1_num_params, \", L2 params = \", L2_num_params)"
   ]
  },
  {
   "cell_type": "code",
   "execution_count": 25,
   "id": "73efa4f9",
   "metadata": {},
   "outputs": [
    {
     "name": "stdout",
     "output_type": "stream",
     "text": [
      "W1.shape:  (2, 3) \n",
      "W1: \n",
      " [[ 1.0128474  -0.4353277  -0.8911477 ]\n",
      " [ 0.30121744 -0.85123867 -0.08794868]]\n",
      "\n",
      "b1.shape:  (3,) \n",
      "b1:  [0. 0. 0.]\n",
      "\n",
      "W2.shape:  (3, 1) \n",
      "W2: \n",
      " [[-0.9889171]\n",
      " [ 0.6581266]\n",
      " [ 0.7599946]]\n",
      "\n",
      "b2.shape:  (1,) \n",
      "b2:  [0.]\n"
     ]
    }
   ],
   "source": [
    "W1, b1 = model.get_layer(\"layer1\").get_weights()\n",
    "W2, b2 = model.get_layer(\"layer2\").get_weights()\n",
    "\n",
    "print(\"W1.shape: \", W1.shape, \"\\nW1: \\n\",W1)\n",
    "print(\"\\nb1.shape: \", b1.shape, \"\\nb1: \",b1)\n",
    "\n",
    "print(\"\\nW2.shape: \", W2.shape, \"\\nW2: \\n\",W2)\n",
    "print(\"\\nb2.shape: \", b2.shape, \"\\nb2: \",b2)"
   ]
  },
  {
   "cell_type": "code",
   "execution_count": 26,
   "id": "fc1d471a",
   "metadata": {},
   "outputs": [
    {
     "name": "stdout",
     "output_type": "stream",
     "text": [
      "Epoch 1/10\n",
      "313/313 [==============================] - 1s 1ms/step - loss: 0.4441\n",
      "Epoch 2/10\n",
      "313/313 [==============================] - 0s 1ms/step - loss: 0.3114\n",
      "Epoch 3/10\n",
      "313/313 [==============================] - 0s 1ms/step - loss: 0.2811\n",
      "Epoch 4/10\n",
      "313/313 [==============================] - 0s 1ms/step - loss: 0.2695\n",
      "Epoch 5/10\n",
      "313/313 [==============================] - 0s 1ms/step - loss: 0.2637\n",
      "Epoch 6/10\n",
      "313/313 [==============================] - 0s 1ms/step - loss: 0.2600\n",
      "Epoch 7/10\n",
      "313/313 [==============================] - 0s 1ms/step - loss: 0.2576\n",
      "Epoch 8/10\n",
      "313/313 [==============================] - 0s 1ms/step - loss: 0.2563\n",
      "Epoch 9/10\n",
      "313/313 [==============================] - 0s 1ms/step - loss: 0.2551\n",
      "Epoch 10/10\n",
      "313/313 [==============================] - 0s 1ms/step - loss: 0.2540\n"
     ]
    },
    {
     "data": {
      "text/plain": [
       "<keras.callbacks.History at 0x1c87d78b850>"
      ]
     },
     "execution_count": 26,
     "metadata": {},
     "output_type": "execute_result"
    }
   ],
   "source": [
    "model.compile(\n",
    "    loss = tf.keras.losses.BinaryCrossentropy(),\n",
    "    optimizer = tf.keras.optimizers.Adam(learning_rate=0.01),\n",
    ")\n",
    "\n",
    "model.fit( Xt,Yt, epochs=10)"
   ]
  },
  {
   "cell_type": "code",
   "execution_count": 27,
   "id": "c5a13982",
   "metadata": {},
   "outputs": [
    {
     "name": "stdout",
     "output_type": "stream",
     "text": [
      "W1.shape:  (2, 3) \n",
      "W1: \n",
      " [[10.077576  -7.6584277 -8.131396 ]\n",
      " [ 7.043243  -5.4663057 -5.6786103]]\n",
      "\n",
      "b1.shape:  (3,) \n",
      "b1:  [-2.0579126  2.5642242  2.382156 ]\n",
      "\n",
      "W2.shape:  (3, 1) \n",
      "W2: \n",
      " [[-7.094538 ]\n",
      " [ 1.4287223]\n",
      " [ 1.5465941]]\n",
      "\n",
      "b2.shape:  (1,) \n",
      "b2:  [-1.5731711]\n"
     ]
    }
   ],
   "source": [
    "# Updated Weights\n",
    "# After fitting, the weights have been updated:\n",
    "W1, b1 = model.get_layer(\"layer1\").get_weights()\n",
    "W2, b2 = model.get_layer(\"layer2\").get_weights()\n",
    "\n",
    "print(\"W1.shape: \", W1.shape, \"\\nW1: \\n\",W1)\n",
    "print(\"\\nb1.shape: \", b1.shape, \"\\nb1: \",b1)\n",
    "\n",
    "print(\"\\nW2.shape: \", W2.shape, \"\\nW2: \\n\",W2)\n",
    "print(\"\\nb2.shape: \", b2.shape, \"\\nb2: \",b2)"
   ]
  },
  {
   "cell_type": "code",
   "execution_count": 28,
   "id": "bbac4c93",
   "metadata": {},
   "outputs": [
    {
     "name": "stdout",
     "output_type": "stream",
     "text": [
      "W1.shape:  (2, 3) \n",
      "W1: \n",
      " [[-8.94  0.29 12.89]\n",
      " [-0.17 -7.34 10.79]]\n",
      "\n",
      "b1.shape:  (3,) \n",
      "b1:  [-9.87 -9.28  1.01]\n",
      "\n",
      "W2.shape:  (3, 1) \n",
      "W2: \n",
      " [[-31.38]\n",
      " [-27.86]\n",
      " [-32.79]]\n",
      "\n",
      "b2.shape:  (1,) \n",
      "b2:  [15.54]\n"
     ]
    }
   ],
   "source": [
    "W1 = np.array([\n",
    "    [-8.94,  0.29, 12.89],\n",
    "    [-0.17, -7.34, 10.79]] )\n",
    "b1 = np.array([-9.87, -9.28,  1.01])\n",
    "W2 = np.array([\n",
    "    [-31.38],\n",
    "    [-27.86],\n",
    "    [-32.79]])\n",
    "b2 = np.array([15.54])\n",
    "\n",
    "model.get_layer(\"layer1\").set_weights([W1,b1])\n",
    "model.get_layer(\"layer2\").set_weights([W2,b2])\n",
    "\n",
    "print(\"W1.shape: \", W1.shape, \"\\nW1: \\n\",W1)\n",
    "print(\"\\nb1.shape: \", b1.shape, \"\\nb1: \",b1)\n",
    "\n",
    "print(\"\\nW2.shape: \", W2.shape, \"\\nW2: \\n\",W2)\n",
    "print(\"\\nb2.shape: \", b2.shape, \"\\nb2: \",b2)"
   ]
  },
  {
   "cell_type": "code",
   "execution_count": 33,
   "id": "90aadbb2",
   "metadata": {},
   "outputs": [
    {
     "name": "stdout",
     "output_type": "stream",
     "text": [
      "\n",
      "X_test: \n",
      " [[200.   13.9]\n",
      " [200.   17. ]]\n",
      "\n",
      "X_testn: \n",
      " tf.Tensor(\n",
      "[[-0.51322865  0.6922797 ]\n",
      " [-0.51322865  3.5992985 ]], shape=(2, 2), dtype=float32) \n",
      "\n",
      "1/1 [==============================] - 0s 19ms/step\n",
      "\n",
      "predictions = \n",
      " [[2.2825211e-06]\n",
      " [2.9576757e-08]]\n"
     ]
    }
   ],
   "source": [
    "X_test = np.array([\n",
    "    [200,13.9],  # postive example\n",
    "    [200,17]])   # negative example\n",
    "\n",
    "print(\"\\nX_test: \\n\", X_test)\n",
    "\n",
    "X_testn = norm_l(X_test)\n",
    "print(\"\\nX_testn: \\n\", X_testn ,\"\\n\",)\n",
    "\n",
    "predictions = model.predict(X_testn)\n",
    "\n",
    "print(\"\\npredictions = \\n\", predictions)"
   ]
  },
  {
   "cell_type": "code",
   "execution_count": 34,
   "id": "37c7d244",
   "metadata": {},
   "outputs": [
    {
     "name": "stdout",
     "output_type": "stream",
     "text": [
      "decisions = \n",
      "[[0.]\n",
      " [0.]]\n",
      "decisions = \n",
      "[[0]\n",
      " [0]]\n"
     ]
    }
   ],
   "source": [
    "yhat = np.zeros_like(predictions)\n",
    "for i in range(len(predictions)):\n",
    "    if predictions[i] >= 0.5:\n",
    "        yhat[i] = 1\n",
    "    else:\n",
    "        yhat[i] = 0\n",
    "print(f\"decisions = \\n{yhat}\")\n",
    "\n",
    "yhat = (predictions >= 0.5).astype(int)\n",
    "print(f\"decisions = \\n{yhat}\")"
   ]
  },
  {
   "cell_type": "code",
   "execution_count": 43,
   "id": "8c5e384c",
   "metadata": {},
   "outputs": [
    {
     "data": {
      "image/png": "[encoded data removed]",
      "text/plain": [
       "<Figure size 1152x288 with 6 Axes>"
      ]
     },
     "metadata": {
      "needs_background": "light"
     },
     "output_type": "display_data"
    }
   ],
   "source": [
    "from tensorflow.keras.activations import sigmoid\n",
    "import matplotlib.colors as colors\n",
    "from matplotlib import cm\n",
    "\n",
    "dlc = dict(dlblue = '#0096ff', dlorange = '#FF9300', dldarkred='#C00000', dlmagenta='#FF40FF', dlpurple='#7030A0', dldarkblue =  '#0D5BDC')\n",
    "dlblue = '#0096ff'; dlorange = '#FF9300'; dldarkred='#C00000'; dlmagenta='#FF40FF'; dlpurple='#7030A0'; dldarkblue =  '#0D5BDC'\n",
    "dlcolors = [dlblue, dlorange, dldarkred, dlmagenta, dlpurple]\n",
    "\n",
    "def truncate_colormap(cmap, minval=0.0, maxval=1.0, n=100):\n",
    "    \"\"\" truncates color map \"\"\"\n",
    "    new_cmap = colors.LinearSegmentedColormap.from_list(\n",
    "        'trunc({n},{a:.2f},{b:.2f})'.format(n=cmap.name, a=minval, b=maxval),\n",
    "        cmap(np.linspace(minval, maxval, n)))\n",
    "    return new_cmap\n",
    "\n",
    "def plt_layer(X,Y,W1,b1,norm_l):\n",
    "    Y = Y.reshape(-1,)\n",
    "    fig,ax = plt.subplots(1,W1.shape[1], figsize=(16,4))\n",
    "    for i in range(W1.shape[1]):\n",
    "        layerf= lambda x : sigmoid(np.dot(norm_l(x),W1[:,i]) + b1[i])\n",
    "        plt_prob(ax[i], layerf)\n",
    "        ax[i].scatter(X[Y==1,0],X[Y==1,1], s=70, marker='x', c='red', label=\"Good Roast\" )\n",
    "        ax[i].scatter(X[Y==0,0],X[Y==0,1], s=100, marker='o', facecolors='none', \n",
    "                   edgecolors=dlc[\"dldarkblue\"],linewidth=1,  label=\"Bad Roast\")\n",
    "        tr = np.linspace(175,260,50)\n",
    "        ax[i].plot(tr, (-3/85) * tr + 21, color=dlc[\"dlpurple\"],linewidth=2)\n",
    "        ax[i].axhline(y= 12, color=dlc[\"dlpurple\"], linewidth=2)\n",
    "        ax[i].axvline(x=175, color=dlc[\"dlpurple\"], linewidth=2)\n",
    "        ax[i].set_title(f\"Layer 1, unit {i}\")\n",
    "        ax[i].set_xlabel(\"Temperature \\n(Celsius)\",size=12)\n",
    "    ax[0].set_ylabel(\"Duration \\n(minutes)\",size=12)\n",
    "    plt.show()\n",
    "    \n",
    "\n",
    "def plt_prob(ax,fwb):\n",
    "    \"\"\" plots a decision boundary but include shading to indicate the probability \"\"\"\n",
    "    #setup useful ranges and common linspaces\n",
    "    x0_space  = np.linspace(150, 285 , 40)\n",
    "    x1_space  = np.linspace(11.5, 15.5 , 40)\n",
    "\n",
    "    # get probability for x0,x1 ranges\n",
    "    tmp_x0,tmp_x1 = np.meshgrid(x0_space,x1_space)\n",
    "    z = np.zeros_like(tmp_x0)\n",
    "    for i in range(tmp_x0.shape[0]):\n",
    "        for j in range(tmp_x1.shape[1]):\n",
    "            x = np.array([[tmp_x0[i,j],tmp_x1[i,j]]])\n",
    "            z[i,j] = fwb(x)\n",
    "\n",
    "\n",
    "    cmap = plt.get_cmap('Blues')\n",
    "    new_cmap = truncate_colormap(cmap, 0.0, 0.5)\n",
    "    pcm = ax.pcolormesh(tmp_x0, tmp_x1, z,\n",
    "                   norm=cm.colors.Normalize(vmin=0, vmax=1),\n",
    "                   cmap=new_cmap, shading='nearest', alpha = 0.9)\n",
    "    ax.figure.colorbar(pcm, ax=ax)\n",
    "\n",
    "plt_layer(X,Y.reshape(-1,),W1,b1,norm_l)\n"
   ]
  },
  {
   "cell_type": "code",
   "execution_count": null,
   "id": "be840cb4",
   "metadata": {},
   "outputs": [],
   "source": []
  }
 ],
 "metadata": {
  "kernelspec": {
   "display_name": "Python 3 (ipykernel)",
   "language": "python",
   "name": "python3"
  },
  "language_info": {
   "codemirror_mode": {
    "name": "ipython",
    "version": 3
   },
   "file_extension": ".py",
   "mimetype": "text/x-python",
   "name": "python",
   "nbconvert_exporter": "python",
   "pygments_lexer": "ipython3",
   "version": "3.9.12"
  }
 },
 "nbformat": 4,
 "nbformat_minor": 5
}
