{
 "cells": [
  {
   "cell_type": "markdown",
   "id": "285f297f",
   "metadata": {},
   "source": [
    "* Python'da anonim işlev, bir işlevin isimsiz olduğu anlamına gelir. Bildiğimiz gibi, normal işlevleri tanımlamak için def anahtar sözcüğü, anonim işlevler oluşturmak için lambda anahtar sözcüğü kullanılır. Aşağıdaki sözdizimine sahiptir:\n",
    "\n",
    "* lambda arguments : expression \n",
    "\n",
    "* Bu işlev, herhangi bir sayıda bağımsız değişkene sahip olabilir, ancak yalnızca bir ifade, değerlendirilir ve döndürülür.\n",
    "* Fonksiyon nesnelerinin gerekli olduğu her yerde lambda fonksiyonlarını kullanmakta serbestsiniz.\n",
    "* Lambda işlevlerinin sözdizimsel olarak tek bir ifadeyle sınırlı olduğunu bilmeniz gerekir.\n"
   ]
  },
  {
   "cell_type": "code",
   "execution_count": 1,
   "id": "a9fd42d5",
   "metadata": {},
   "outputs": [
    {
     "name": "stdout",
     "output_type": "stream",
     "text": [
      "<function <lambda> at 0x00000203B94BB3A0>\n",
      "<class 'str'>\n"
     ]
    }
   ],
   "source": [
    "# Python program to demonstrate\n",
    "# lambda functions\n",
    "\n",
    "\n",
    "string ='GeeksforGeeks'\n",
    "\n",
    "# lambda returns a function object\n",
    "print(lambda string : string)\n",
    "print(type(string))"
   ]
  },
  {
   "cell_type": "code",
   "execution_count": 2,
   "id": "c1735732",
   "metadata": {},
   "outputs": [
    {
     "name": "stdout",
     "output_type": "stream",
     "text": [
      "GeeksforGeeks\n"
     ]
    }
   ],
   "source": [
    "# Python program to demonstrate\n",
    "# lambda functions\n",
    "\n",
    "x =\"GeeksforGeeks\"\n",
    "\n",
    "# lambda gets pass to print\n",
    "(lambda x : print(x))(x)"
   ]
  },
  {
   "cell_type": "code",
   "execution_count": 4,
   "id": "c63dfc3c",
   "metadata": {},
   "outputs": [
    {
     "name": "stdout",
     "output_type": "stream",
     "text": [
      "int deger gir:4\n",
      "64\n",
      "125\n"
     ]
    }
   ],
   "source": [
    "# Python program to illustrate cube of a number\n",
    "# showing difference between def() and lambda().\n",
    "\n",
    "def cube(y):\n",
    "\treturn y*y*y;\n",
    "\n",
    "g = lambda x: x*x*x\n",
    "a=int(input(\"int deger gir:\"))\n",
    "print(g(a))\n",
    "\n",
    "print(cube(5))\n",
    "\n",
    "#fonksiyon gibi değil kafana göre takıl"
   ]
  },
  {
   "cell_type": "code",
   "execution_count": 6,
   "id": "d7892cec",
   "metadata": {},
   "outputs": [
    {
     "name": "stdout",
     "output_type": "stream",
     "text": [
      "8 powerof 2 =  64\n",
      "<class 'function'>\n",
      "8 powerof 5 =  32768\n"
     ]
    }
   ],
   "source": [
    "# Python program to demonstrate\n",
    "# The lambda function gets more helpful when used inside a function.\n",
    "\n",
    "\n",
    "def power(n):\n",
    "\treturn lambda a : a ** n\n",
    "    \n",
    "\n",
    "base = power(2)\n",
    "# base = lambda a : a**2 get #aslında şu\n",
    "print(\"8 powerof 2 = \", base(8))\n",
    "\n",
    "print(type(base))\n",
    "\n",
    "base = power(5)\n",
    "print(\"8 powerof 5 = \", base(8))"
   ]
  },
  {
   "cell_type": "code",
   "execution_count": null,
   "id": "79a8a2b8",
   "metadata": {},
   "outputs": [],
   "source": []
  }
 ],
 "metadata": {
  "kernelspec": {
   "display_name": "Python 3 (ipykernel)",
   "language": "python",
   "name": "python3"
  },
  "language_info": {
   "codemirror_mode": {
    "name": "ipython",
    "version": 3
   },
   "file_extension": ".py",
   "mimetype": "text/x-python",
   "name": "python",
   "nbconvert_exporter": "python",
   "pygments_lexer": "ipython3",
   "version": "3.9.7"
  }
 },
 "nbformat": 4,
 "nbformat_minor": 5
}
